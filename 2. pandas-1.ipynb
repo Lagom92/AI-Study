{
 "nbformat": 4,
 "nbformat_minor": 2,
 "metadata": {
  "language_info": {
   "name": "python",
   "codemirror_mode": {
    "name": "ipython",
    "version": 3
   },
   "version": "3.7.6-final"
  },
  "orig_nbformat": 2,
  "file_extension": ".py",
  "mimetype": "text/x-python",
  "name": "python",
  "npconvert_exporter": "python",
  "pygments_lexer": "ipython3",
  "version": 3,
  "kernelspec": {
   "name": "python37664bitd6c49ce9a0fb4da9a60aa5dde01a050b",
   "display_name": "Python 3.7.6 64-bit"
  }
 },
 "cells": [
  {
   "cell_type": "markdown",
   "metadata": {},
   "source": [
    "# Pandas"
   ]
  },
  {
   "cell_type": "markdown",
   "metadata": {},
   "source": [
    "# 1. Pandas 소개"
   ]
  },
  {
   "cell_type": "markdown",
   "metadata": {},
   "source": [
    "- Numpy를 기반으로 개발된 패키지\n",
    "\n",
    "- 유연한 인덱스를 가진 1차원 배열의 구조의 Series 객체와 유연한 행 인덱스와 열이름을 가진 2차원 배열의 구조의 DataFrame 객체를 제공\n",
    "\n",
    "- 강력한 데이터 연산 기능을 제공\n",
    "\n",
    "- DataFrame 객체는 여러 데이터 타입을 사용할 수 있으며, 값의 누락 역시 허용"
   ]
  },
  {
   "cell_type": "code",
   "execution_count": null,
   "metadata": {},
   "outputs": [],
   "source": []
  }
 ]
}