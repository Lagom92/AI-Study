{
 "cells": [
  {
   "cell_type": "markdown",
   "metadata": {},
   "source": [
    "# 온라인 광고 클릭 예측 모델 만들기-1"
   ]
  },
  {
   "cell_type": "markdown",
   "metadata": {},
   "source": [
    "# 9-1. 의사결정트리 개요"
   ]
  },
  {
   "cell_type": "markdown",
   "metadata": {},
   "source": [
    "### 개요\n",
    "\n",
    "1. 의사결정 트리와 CART 알고리즘의 특징을 이해하고, 의사결정 트리의 훈련, 시각화, 예측 방법을 살펴본다.\n",
    "\n",
    "2. 의사결정 트리를 이용해 온라인 광고 클릭 예측 모델을 만드는 방법을 살펴본다.\n",
    "\n",
    "3. 랜덤 포레스트를 이용해 온라인 광고 클릭 예측 모델을 개선하는 방법을 살펴본다."
   ]
  },
  {
   "cell_type": "markdown",
   "metadata": {},
   "source": [
    "## 의사결정 트리란?"
   ]
  },
  {
   "cell_type": "markdown",
   "metadata": {},
   "source": [
    "### 의사결정 트리의 개요\n",
    "\n",
    "- Decision Tree\n",
    "\n",
    "- 분류, 회귀 작업에 사용되며, 복잡한 데이터 세트도 학습할 수 있음\n",
    "\n",
    "- 설명하기도 쉽고 해석하기도 쉬우면서 나이브 베이즈와 같이 범주형 데이터를 잘 다룰 수 있음\n",
    "\n",
    "- 의사결정 트리는 강력한 머신러닝 알고리즘 가운데 하나인 랜덤 포레스트의 기본 구성 요소\n",
    "\n",
    "- ID3, C4.5, CART, CHAID 와 같은 알고리즘이 있음"
   ]
  },
  {
   "cell_type": "markdown",
   "metadata": {},
   "source": [
    "- 랜덤 포레스트: 부트 스트랩 어그리게이팅이라고 하는 배깅 방식을 사용"
   ]
  },
  {
   "cell_type": "markdown",
   "metadata": {},
   "source": [
    "<br/>\n",
    "\n",
    "-------------------\n",
    "\n",
    "### Reference\n",
    "\n",
    "- https://www.youtube.com/watch?v=Q2g_GOdK6mk"
   ]
  }
 ],
 "metadata": {
  "language_info": {
   "codemirror_mode": {
    "name": "ipython",
    "version": 3
   },
   "file_extension": ".py",
   "mimetype": "text/x-python",
   "name": "python",
   "nbconvert_exporter": "python",
   "pygments_lexer": "ipython3",
   "version": "3.7.6-final"
  },
  "orig_nbformat": 2,
  "kernelspec": {
   "name": "python37664bitd6c49ce9a0fb4da9a60aa5dde01a050b",
   "display_name": "Python 3.7.6 64-bit"
  }
 },
 "nbformat": 4,
 "nbformat_minor": 2
}