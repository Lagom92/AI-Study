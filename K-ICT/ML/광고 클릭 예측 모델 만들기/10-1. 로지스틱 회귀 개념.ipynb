{
 "cells": [
  {
   "cell_type": "markdown",
   "metadata": {},
   "source": [
    "# 온라인 광고 클릭 예측 모델 만들기-2"
   ]
  },
  {
   "cell_type": "markdown",
   "metadata": {},
   "source": [
    "# 10-1. 로지스틱 회귀 개념"
   ]
  },
  {
   "cell_type": "markdown",
   "metadata": {},
   "source": [
    "### 개요\n",
    "\n",
    "1. 로지스틱 회귀의 특징과 동작 원리를 이해한다.\n",
    "\n",
    "2. 로지스틱 회귀 모델을 이용해 온라인 광고 클릭 예측 모델을 만드는 방법을 살펴본다.\n",
    "\n",
    "3. 로지스틱 회귀 모델의 하이퍼파라미터 튜닝 방법을 살펴본다."
   ]
  },
  {
   "cell_type": "markdown",
   "metadata": {},
   "source": [
    "## 로지스틱 회귀란?"
   ]
  },
  {
   "cell_type": "markdown",
   "metadata": {},
   "source": [
    "### 로지스틱 회귀의 개요\n",
    "\n",
    "- 베르누이 분포: 긍정 확률 P와 부정 확률 1-P를 갖는 랜덤 변수의 확률 분포\n",
    "\n",
    "- 베르누이 분포를 따르는 반응 변수의 확률 범위는 \\[0, 1\\]\n",
    "\n",
    "- 선형 회귀는 특징 값의 일정한 변화로 반응 변수에도 일정한 변화가 일어난다는 가정을 하므로, 반응 변수가 확률을 나타낼 경우 가정이 유효하지 않음\n",
    "\n",
    "- 일반화 선형 모델은 연결 함수를 사용해 특징의 선형 조합을 반응 변수와 연결 짓는 방법을 통해 선형 회귀의 가정을 없앰\n",
    "\n",
    "- 특징의 선형 조합을 정규 분포를 따르지 않는 반응 변수와 연계하려면 연결함수가 필요"
   ]
  },
  {
   "cell_type": "markdown",
   "metadata": {},
   "source": [
    "- 베르누이 분포\n",
    "\n",
    "    - 자연계의 일반적인 정규분포와 대칭이 되는 구조의 분포\n",
    "\n",
    "    - ex) 동전 던지기"
   ]
  },
  {
   "cell_type": "markdown",
   "metadata": {},
   "source": [
    "<br/>\n",
    "\n",
    "------\n",
    "\n",
    "### Reference\n",
    "\n",
    "- https://www.youtube.com/watch?v=853BBAG3OVM"
   ]
  }
 ],
 "metadata": {
  "language_info": {
   "codemirror_mode": {
    "name": "ipython",
    "version": 3
   },
   "file_extension": ".py",
   "mimetype": "text/x-python",
   "name": "python",
   "nbconvert_exporter": "python",
   "pygments_lexer": "ipython3",
   "version": "3.7.6-final"
  },
  "orig_nbformat": 2,
  "kernelspec": {
   "name": "python37664bitd6c49ce9a0fb4da9a60aa5dde01a050b",
   "display_name": "Python 3.7.6 64-bit"
  }
 },
 "nbformat": 4,
 "nbformat_minor": 2
}