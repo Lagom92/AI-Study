{
 "cells": [
  {
   "cell_type": "markdown",
   "metadata": {},
   "source": [
    "# 온라인 광고 클릭 예측 모델 만들기-1"
   ]
  },
  {
   "cell_type": "markdown",
   "metadata": {},
   "source": [
    "# 9-3. 의사결정트리 구현을 위한 CART 알고리즘"
   ]
  },
  {
   "cell_type": "markdown",
   "metadata": {},
   "source": [
    "## CART 알고리즘"
   ]
  },
  {
   "cell_type": "markdown",
   "metadata": {},
   "source": [
    "### CART 알고리즘의 특징\n",
    "\n",
    "- Classification and Regression Tree\n",
    "\n",
    "- 노드를 왼쪽, 오른쪽 자식 노드로 분할 확장하면서 트리를 생성함\n",
    "\n",
    "- 분할 단계에서 가장 중요한 특징과 해당 값의 모든 가능한 조합을 측정 함수를 이용해 탐욕적으로 찾음\n",
    "\n",
    "- 범주형 특징의 경우 해당 특징 값을 가진 샘플들을 오른쪽 자식 노드에 할당함\n",
    "\n",
    "- 수치형 특징의 경우 해당 값보다 큰 값을 가진 샘플들을 오른쪽 자식 노드에 할당함"
   ]
  },
  {
   "cell_type": "markdown",
   "metadata": {},
   "source": [
    "- CART는 scikit-learn의 decision tree, 랜덤 포레스트가 사용하는 내부 알고리즘"
   ]
  },
  {
   "cell_type": "markdown",
   "metadata": {},
   "source": [
    "### 트리 분할의 측정 기준\n",
    "\n",
    "- 지니 불순도: Gini Inpurity\n",
    "\n",
    "- 한 노드에 모든 샘플이 같은 클래스에 있을 경우 순수(gini==0)하다고 함"
   ]
  },
  {
   "cell_type": "markdown",
   "metadata": {},
   "source": [
    "![](./img/지니불순도.PNG)"
   ]
  },
  {
   "cell_type": "markdown",
   "metadata": {},
   "source": [
    "![](./img/지니불순도트리.PNG) "
   ]
  },
  {
   "cell_type": "markdown",
   "metadata": {},
   "source": [
    "- 립 노드에 가면 지니 계수가 0이 됨\n",
    "\n",
    "- max depth의 파라미터 조정으로 depth 분할을 정지시킬 수 있음"
   ]
  },
  {
   "cell_type": "markdown",
   "metadata": {},
   "source": [
    "### 비용함수\n",
    "\n",
    "- CART가 분류에 대해 최소화해야 하는 비용함수\n",
    "\n",
    "- 훈련 세트의 분할은 최대 깊이가 되면 중지하거나, 샘플의 개수가 분할에 필요한 최소 개수 이하일 경우나, 불순도를 줄이는 분할을 찾을 수 없을 때 중지됨"
   ]
  },
  {
   "cell_type": "markdown",
   "metadata": {},
   "source": [
    "![](./img/CART비용함수.PNG)"
   ]
  },
  {
   "cell_type": "markdown",
   "metadata": {},
   "source": [
    "<br/>\n",
    "\n",
    "--------------\n",
    "\n",
    "### Reference\n",
    "\n",
    "- https://www.youtube.com/watch?v=zE78KTsyoO0"
   ]
  }
 ],
 "metadata": {
  "language_info": {
   "codemirror_mode": {
    "name": "ipython",
    "version": 3
   },
   "file_extension": ".py",
   "mimetype": "text/x-python",
   "name": "python",
   "nbconvert_exporter": "python",
   "pygments_lexer": "ipython3",
   "version": "3.7.6-final"
  },
  "orig_nbformat": 2,
  "kernelspec": {
   "name": "python37664bitd6c49ce9a0fb4da9a60aa5dde01a050b",
   "display_name": "Python 3.7.6 64-bit"
  }
 },
 "nbformat": 4,
 "nbformat_minor": 2
}