{
 "nbformat": 4,
 "nbformat_minor": 2,
 "metadata": {
  "language_info": {
   "name": "python",
   "codemirror_mode": {
    "name": "ipython",
    "version": 3
   },
   "version": "3.7.6-final"
  },
  "orig_nbformat": 2,
  "file_extension": ".py",
  "mimetype": "text/x-python",
  "name": "python",
  "npconvert_exporter": "python",
  "pygments_lexer": "ipython3",
  "version": 3,
  "kernelspec": {
   "name": "python37664bitd6c49ce9a0fb4da9a60aa5dde01a050b",
   "display_name": "Python 3.7.6 64-bit"
  }
 },
 "cells": [
  {
   "cell_type": "markdown",
   "metadata": {},
   "source": [
    "# 2.2. Numpy 주요 기능"
   ]
  },
  {
   "cell_type": "code",
   "execution_count": 1,
   "metadata": {},
   "outputs": [],
   "source": [
    "import numpy as np"
   ]
  },
  {
   "cell_type": "markdown",
   "metadata": {},
   "source": [
    "### 객체의 내장 함수 사용\n",
    "\n",
    "- 빠른 연산이 가능한 벡터화 함수(vectorize function)\n",
    "\n",
    "- ufunction(universal function) 사용 권장"
   ]
  },
  {
   "cell_type": "code",
   "execution_count": 43,
   "metadata": {},
   "outputs": [
    {
     "output_type": "execute_result",
     "data": {
      "text/plain": "array([[6, 1, 4, 4],\n       [8, 4, 6, 3],\n       [5, 8, 7, 9]])"
     },
     "metadata": {},
     "execution_count": 43
    }
   ],
   "source": [
    "np.random.seed(0)\n",
    "\n",
    "arr2 = np.random.randint(1, 10, (3, 4))\n",
    "arr2"
   ]
  },
  {
   "cell_type": "code",
   "execution_count": 44,
   "metadata": {},
   "outputs": [
    {
     "output_type": "execute_result",
     "data": {
      "text/plain": "(65, 65)"
     },
     "metadata": {},
     "execution_count": 44
    }
   ],
   "source": [
    "np.sum(arr2), arr2.sum()"
   ]
  },
  {
   "cell_type": "markdown",
   "metadata": {},
   "source": [
    "- sum()\n",
    "\n",
    "- axis가 지정이 안되면 => axis=None\n",
    "    - 모든 원소를 의미함"
   ]
  },
  {
   "cell_type": "code",
   "execution_count": 45,
   "metadata": {},
   "outputs": [
    {
     "output_type": "execute_result",
     "data": {
      "text/plain": "(array([19, 13, 17, 16]), array([19, 13, 17, 16]))"
     },
     "metadata": {},
     "execution_count": 45
    }
   ],
   "source": [
    "np.sum(arr2, axis=0), arr2.sum(axis=0)"
   ]
  },
  {
   "cell_type": "markdown",
   "metadata": {},
   "source": [
    "- axis=0을 하면 세로(열) 방향으로 sum()"
   ]
  },
  {
   "cell_type": "code",
   "execution_count": 46,
   "metadata": {},
   "outputs": [
    {
     "output_type": "execute_result",
     "data": {
      "text/plain": "(array([15, 21, 29]), array([15, 21, 29]))"
     },
     "metadata": {},
     "execution_count": 46
    }
   ],
   "source": [
    "np.sum(arr2, axis=1), arr2.sum(axis=1)"
   ]
  },
  {
   "cell_type": "markdown",
   "metadata": {},
   "source": [
    "- axis=1을 하면 가로(행) 방향으로 sum()"
   ]
  },
  {
   "cell_type": "code",
   "execution_count": 47,
   "metadata": {},
   "outputs": [
    {
     "output_type": "execute_result",
     "data": {
      "text/plain": "(array([5, 1, 4, 3]), array([8, 8, 7, 9]))"
     },
     "metadata": {},
     "execution_count": 47
    }
   ],
   "source": [
    "np.min(arr2, axis=0), np.max(arr2, axis=0)"
   ]
  },
  {
   "cell_type": "markdown",
   "metadata": {},
   "source": [
    "- min(), max()\n",
    "\n",
    "- ufunction을 이용해 빠르게 연산 가능\n",
    "- 루프를 사용하는것 보다 내장함수를 사용하는 것이 더 좋음\n"
   ]
  },
  {
   "cell_type": "code",
   "execution_count": 48,
   "metadata": {},
   "outputs": [
    {
     "output_type": "execute_result",
     "data": {
      "text/plain": "(array([5, 1, 4, 3]), array([8, 8, 7, 9]))"
     },
     "metadata": {},
     "execution_count": 48
    }
   ],
   "source": [
    "arr2.min(axis=0), arr2.max(axis=0)"
   ]
  },
  {
   "cell_type": "markdown",
   "metadata": {},
   "source": [
    "- axis를 이용해 방향 지정 가능"
   ]
  },
  {
   "cell_type": "code",
   "execution_count": 49,
   "metadata": {},
   "outputs": [
    {
     "output_type": "execute_result",
     "data": {
      "text/plain": "(array([1, 3, 5]), array([6, 8, 9]))"
     },
     "metadata": {},
     "execution_count": 49
    }
   ],
   "source": [
    "np.min(arr2, axis=1), np.max(arr2, axis=1)"
   ]
  },
  {
   "cell_type": "code",
   "execution_count": 50,
   "metadata": {},
   "outputs": [
    {
     "output_type": "execute_result",
     "data": {
      "text/plain": "(array([1, 3, 5]), array([6, 8, 9]))"
     },
     "metadata": {},
     "execution_count": 50
    }
   ],
   "source": [
    "arr2.min(axis=1), arr2.max(axis=1)"
   ]
  },
  {
   "cell_type": "markdown",
   "metadata": {},
   "source": [
    "### Numpy 배열 객체와 브로드캐스팅\n",
    "\n",
    "\n",
    "- 행렬끼리 연산을 하기 위해서는 각행렬의 행과 열의 정보가 일치되어야 함\n",
    "- shape가 일치해야 함\n",
    "\n",
    "\n",
    "- 브로드캐스팅: 행열 구조를 동일하게 맞춰주는 것"
   ]
  },
  {
   "cell_type": "code",
   "execution_count": 51,
   "metadata": {},
   "outputs": [
    {
     "output_type": "execute_result",
     "data": {
      "text/plain": "array([[0.5488135 , 0.71518937, 0.60276338],\n       [0.54488318, 0.4236548 , 0.64589411],\n       [0.43758721, 0.891773  , 0.96366276],\n       [0.38344152, 0.79172504, 0.52889492],\n       [0.56804456, 0.92559664, 0.07103606],\n       [0.0871293 , 0.0202184 , 0.83261985],\n       [0.77815675, 0.87001215, 0.97861834],\n       [0.79915856, 0.46147936, 0.78052918],\n       [0.11827443, 0.63992102, 0.14335329],\n       [0.94466892, 0.52184832, 0.41466194]])"
     },
     "metadata": {},
     "execution_count": 51
    }
   ],
   "source": [
    "np.random.seed(0)\n",
    "\n",
    "X = np.random.random((10, 3))\n",
    "X"
   ]
  },
  {
   "cell_type": "code",
   "execution_count": 52,
   "metadata": {},
   "outputs": [
    {
     "output_type": "execute_result",
     "data": {
      "text/plain": "array([0.52101579, 0.62614181, 0.59620338])"
     },
     "metadata": {},
     "execution_count": 52
    }
   ],
   "source": [
    "Xmean = X.mean(axis=0)\n",
    "Xmean"
   ]
  },
  {
   "cell_type": "markdown",
   "metadata": {},
   "source": [
    "- mean()\n",
    "\n",
    "- axis를 이용해 방향 지정 가능"
   ]
  },
  {
   "cell_type": "code",
   "execution_count": 53,
   "metadata": {},
   "outputs": [
    {
     "output_type": "execute_result",
     "data": {
      "text/plain": "array([[ 0.02779771,  0.08904756,  0.00655999],\n       [ 0.02386739, -0.20248701,  0.04969073],\n       [-0.08342858,  0.26563119,  0.36745938],\n       [-0.13757427,  0.16558323, -0.06730846],\n       [ 0.04702877,  0.29945483, -0.52516732],\n       [-0.43388649, -0.60592341,  0.23641646],\n       [ 0.25714096,  0.24387034,  0.38241496],\n       [ 0.27814277, -0.16466245,  0.18432579],\n       [-0.40274137,  0.01377921, -0.45285009],\n       [ 0.42365312, -0.10429349, -0.18154144]])"
     },
     "metadata": {},
     "execution_count": 53
    }
   ],
   "source": [
    "Xcentered = X - Xmean\n",
    "Xcentered"
   ]
  },
  {
   "cell_type": "code",
   "execution_count": 54,
   "metadata": {},
   "outputs": [
    {
     "output_type": "stream",
     "name": "stdout",
     "text": "(10, 3)\n(3,)\n"
    }
   ],
   "source": [
    "print(X.shape)\n",
    "print(Xmean.shape)"
   ]
  },
  {
   "cell_type": "markdown",
   "metadata": {},
   "source": [
    "- `-`\n",
    "\n",
    "- 행렬의 빼기 연산\n",
    "\n",
    "- 중심화\n"
   ]
  },
  {
   "cell_type": "markdown",
   "metadata": {},
   "source": [
    "### Numpy 배열 객체의 부울 배열과 마스킹 연산\n",
    "\n",
    "- 부울 배열을 이용한 마스킹 연산\n"
   ]
  },
  {
   "cell_type": "code",
   "execution_count": 55,
   "metadata": {},
   "outputs": [
    {
     "output_type": "execute_result",
     "data": {
      "text/plain": "array([[6, 1, 4, 4],\n       [8, 4, 6, 3],\n       [5, 8, 7, 9]])"
     },
     "metadata": {},
     "execution_count": 55
    }
   ],
   "source": [
    "np.random.seed(0)\n",
    "\n",
    "X = np.random.randint(1, 10, size=(3, 4))\n",
    "X"
   ]
  },
  {
   "cell_type": "code",
   "execution_count": 56,
   "metadata": {},
   "outputs": [
    {
     "output_type": "execute_result",
     "data": {
      "text/plain": "array([[ True, False, False, False],\n       [False, False,  True, False],\n       [False, False,  True, False]])"
     },
     "metadata": {},
     "execution_count": 56
    }
   ],
   "source": [
    "(X > 5) & (X < 8)"
   ]
  },
  {
   "cell_type": "markdown",
   "metadata": {},
   "source": [
    "- 조건을 만족하는 배열 구성\n",
    "\n",
    "- 조건을 만족하면 True 아니면 False"
   ]
  },
  {
   "cell_type": "code",
   "execution_count": 57,
   "metadata": {},
   "outputs": [
    {
     "output_type": "execute_result",
     "data": {
      "text/plain": "3"
     },
     "metadata": {},
     "execution_count": 57
    }
   ],
   "source": [
    "np.sum((X > 5) & (X < 8))"
   ]
  },
  {
   "cell_type": "markdown",
   "metadata": {},
   "source": [
    "- True가 나오는 지점의 데이터를 sum()"
   ]
  },
  {
   "cell_type": "code",
   "execution_count": 58,
   "metadata": {},
   "outputs": [
    {
     "output_type": "execute_result",
     "data": {
      "text/plain": "array([[ True,  True,  True,  True],\n       [ True,  True,  True,  True],\n       [ True,  True,  True,  True]])"
     },
     "metadata": {},
     "execution_count": 58
    }
   ],
   "source": [
    "(X > 5) | (X < 8)"
   ]
  },
  {
   "cell_type": "code",
   "execution_count": 59,
   "metadata": {},
   "outputs": [
    {
     "output_type": "execute_result",
     "data": {
      "text/plain": "12"
     },
     "metadata": {},
     "execution_count": 59
    }
   ],
   "source": [
    "np.sum((X > 5) | (X < 8))"
   ]
  },
  {
   "cell_type": "markdown",
   "metadata": {},
   "source": [
    "- 조건을 만족하는 지점의 데이터를 sum()"
   ]
  },
  {
   "cell_type": "code",
   "execution_count": 60,
   "metadata": {},
   "outputs": [
    {
     "output_type": "execute_result",
     "data": {
      "text/plain": "array([1, 0, 2, 0])"
     },
     "metadata": {},
     "execution_count": 60
    }
   ],
   "source": [
    "np.sum((X > 5) & (X < 8), axis=0)"
   ]
  },
  {
   "cell_type": "markdown",
   "metadata": {},
   "source": [
    "- axis\n",
    "    - 적용할 방향 지정"
   ]
  },
  {
   "cell_type": "code",
   "execution_count": 61,
   "metadata": {},
   "outputs": [
    {
     "output_type": "execute_result",
     "data": {
      "text/plain": "array([1, 1, 1])"
     },
     "metadata": {},
     "execution_count": 61
    }
   ],
   "source": [
    "np.sum((X > 5) & (X < 8), axis=1)"
   ]
  },
  {
   "cell_type": "code",
   "execution_count": 62,
   "metadata": {},
   "outputs": [
    {
     "output_type": "execute_result",
     "data": {
      "text/plain": "array([6, 6, 7])"
     },
     "metadata": {},
     "execution_count": 62
    }
   ],
   "source": [
    "X[(X > 5) & (X < 8)]"
   ]
  },
  {
   "cell_type": "markdown",
   "metadata": {},
   "source": [
    "- 부울 배열과 마스킹 연산으로 결과 추출\n",
    "\n",
    "- 조건을 만족하는 데이터를 출력"
   ]
  },
  {
   "cell_type": "markdown",
   "metadata": {},
   "source": [
    "### Numpy 배열 객체와 팬시 인덱싱\n",
    "\n",
    "- 팬시 인덱싱: 인덱스를 담고 있는 배열"
   ]
  },
  {
   "cell_type": "code",
   "execution_count": 63,
   "metadata": {},
   "outputs": [
    {
     "output_type": "execute_result",
     "data": {
      "text/plain": "array([[ 0,  1,  2,  3],\n       [ 4,  5,  6,  7],\n       [ 8,  9, 10, 11]])"
     },
     "metadata": {},
     "execution_count": 63
    }
   ],
   "source": [
    "X = np.arange(12).reshape((3, 4))\n",
    "X"
   ]
  },
  {
   "cell_type": "code",
   "execution_count": 64,
   "metadata": {},
   "outputs": [
    {
     "output_type": "stream",
     "name": "stdout",
     "text": "[0 1 2]\n[1 2 3]\n"
    }
   ],
   "source": [
    "row = np.array([0, 1, 2])\n",
    "col = np.array([1, 2, 3])\n",
    "\n",
    "print(row)\n",
    "print(col)"
   ]
  },
  {
   "cell_type": "markdown",
   "metadata": {},
   "source": [
    "- row 인덱스와 col 인덱스"
   ]
  },
  {
   "cell_type": "code",
   "execution_count": 65,
   "metadata": {},
   "outputs": [
    {
     "output_type": "execute_result",
     "data": {
      "text/plain": "array([[ 0,  1,  2,  3],\n       [ 4,  5,  6,  7],\n       [ 8,  9, 10, 11]])"
     },
     "metadata": {},
     "execution_count": 65
    }
   ],
   "source": [
    "X[row]"
   ]
  },
  {
   "cell_type": "markdown",
   "metadata": {},
   "source": [
    "- X에 row 전달\n",
    "- 0, 1, 2 번째 행 출력\n",
    "\n",
    "\n",
    "- 인덱스 배열을 만족하는 부분집합을 추출하는 팬시 인덱싱"
   ]
  },
  {
   "cell_type": "code",
   "execution_count": 66,
   "metadata": {},
   "outputs": [
    {
     "output_type": "execute_result",
     "data": {
      "text/plain": "array([[ 1,  2,  3],\n       [ 5,  6,  7],\n       [ 9, 10, 11]])"
     },
     "metadata": {},
     "execution_count": 66
    }
   ],
   "source": [
    "X[:, col]"
   ]
  },
  {
   "cell_type": "markdown",
   "metadata": {},
   "source": [
    "- 1, 2, 3번째 열을 출력\n",
    "- 행은 전부"
   ]
  },
  {
   "cell_type": "code",
   "execution_count": 67,
   "metadata": {},
   "outputs": [
    {
     "output_type": "execute_result",
     "data": {
      "text/plain": "array([ 1,  6, 11])"
     },
     "metadata": {},
     "execution_count": 67
    }
   ],
   "source": [
    "X[row, col]"
   ]
  },
  {
   "cell_type": "markdown",
   "metadata": {},
   "source": [
    "- 행과 열 모두 만족하는 값들이 출력"
   ]
  },
  {
   "cell_type": "code",
   "execution_count": 68,
   "metadata": {},
   "outputs": [
    {
     "output_type": "execute_result",
     "data": {
      "text/plain": "array([[ 1,  2,  3],\n       [ 5,  6,  7],\n       [ 9, 10, 11]])"
     },
     "metadata": {},
     "execution_count": 68
    }
   ],
   "source": [
    "X[row.reshape(-1, 1), col]"
   ]
  },
  {
   "cell_type": "code",
   "execution_count": 69,
   "metadata": {},
   "outputs": [
    {
     "output_type": "execute_result",
     "data": {
      "text/plain": "array([[0],\n       [1],\n       [2]])"
     },
     "metadata": {},
     "execution_count": 69
    }
   ],
   "source": [
    "row.reshape(-1, 1)"
   ]
  },
  {
   "cell_type": "markdown",
   "metadata": {},
   "source": [
    "- reshape를 이용해 구조를 변환해도 동일한 결과를 내는 팬시 인덱싱"
   ]
  },
  {
   "cell_type": "markdown",
   "metadata": {},
   "source": [
    "### Numpy 배열 객체와 복합 인덱싱"
   ]
  },
  {
   "cell_type": "code",
   "execution_count": 70,
   "metadata": {},
   "outputs": [
    {
     "output_type": "execute_result",
     "data": {
      "text/plain": "array([[0., 0., 0., 0.],\n       [0., 0., 0., 0.],\n       [0., 0., 0., 0.]])"
     },
     "metadata": {},
     "execution_count": 70
    }
   ],
   "source": [
    "X = np.zeros(12).reshape((3, 4))\n",
    "X"
   ]
  },
  {
   "cell_type": "code",
   "execution_count": 71,
   "metadata": {},
   "outputs": [
    {
     "output_type": "execute_result",
     "data": {
      "text/plain": "array([[0., 0., 0., 0.],\n       [1., 0., 0., 0.],\n       [0., 0., 0., 0.]])"
     },
     "metadata": {},
     "execution_count": 71
    }
   ],
   "source": [
    "X[1, 0] = 1\n",
    "X"
   ]
  },
  {
   "cell_type": "code",
   "execution_count": 72,
   "metadata": {},
   "outputs": [
    {
     "output_type": "execute_result",
     "data": {
      "text/plain": "array([[0., 0., 0., 0.],\n       [1., 1., 0., 1.],\n       [0., 0., 0., 0.]])"
     },
     "metadata": {},
     "execution_count": 72
    }
   ],
   "source": [
    "X[1, [1, 3]] = 1\n",
    "X"
   ]
  },
  {
   "cell_type": "markdown",
   "metadata": {},
   "source": [
    "- 팬시 인덱싱"
   ]
  },
  {
   "cell_type": "code",
   "execution_count": 73,
   "metadata": {},
   "outputs": [
    {
     "output_type": "execute_result",
     "data": {
      "text/plain": "array([[0., 2., 0., 0.],\n       [1., 1., 0., 1.],\n       [0., 0., 0., 2.]])"
     },
     "metadata": {},
     "execution_count": 73
    }
   ],
   "source": [
    "X[[0, 2], [1, 3]] = 2\n",
    "X"
   ]
  },
  {
   "cell_type": "code",
   "execution_count": 74,
   "metadata": {},
   "outputs": [
    {
     "output_type": "execute_result",
     "data": {
      "text/plain": "array([[3., 2., 3., 0.],\n       [3., 1., 3., 1.],\n       [3., 0., 3., 2.]])"
     },
     "metadata": {},
     "execution_count": 74
    }
   ],
   "source": [
    "X[0:3, [0, 2]] = 3\n",
    "X"
   ]
  },
  {
   "cell_type": "markdown",
   "metadata": {},
   "source": [
    "- 팬시 인덱싱 + 슬라이싱 = 범위 집합 추출"
   ]
  },
  {
   "cell_type": "markdown",
   "metadata": {},
   "source": [
    "### Numpy 배열 객체의 정렬\n"
   ]
  },
  {
   "cell_type": "code",
   "execution_count": 75,
   "metadata": {},
   "outputs": [
    {
     "output_type": "execute_result",
     "data": {
      "text/plain": "array([5, 0, 3, 3, 7])"
     },
     "metadata": {},
     "execution_count": 75
    }
   ],
   "source": [
    "np.random.seed(0)\n",
    "\n",
    "X = np.array(np.random.randint(10, size=5))\n",
    "X"
   ]
  },
  {
   "cell_type": "code",
   "execution_count": 76,
   "metadata": {},
   "outputs": [
    {
     "output_type": "execute_result",
     "data": {
      "text/plain": "array([0, 3, 3, 5, 7])"
     },
     "metadata": {},
     "execution_count": 76
    }
   ],
   "source": [
    "np.sort(X)"
   ]
  },
  {
   "cell_type": "code",
   "execution_count": 77,
   "metadata": {},
   "outputs": [
    {
     "output_type": "execute_result",
     "data": {
      "text/plain": "array([5, 0, 3, 3, 7])"
     },
     "metadata": {},
     "execution_count": 77
    }
   ],
   "source": [
    "X"
   ]
  },
  {
   "cell_type": "code",
   "execution_count": 78,
   "metadata": {},
   "outputs": [],
   "source": [
    "X.sort()"
   ]
  },
  {
   "cell_type": "code",
   "execution_count": 79,
   "metadata": {},
   "outputs": [
    {
     "output_type": "execute_result",
     "data": {
      "text/plain": "array([0, 3, 3, 5, 7])"
     },
     "metadata": {},
     "execution_count": 79
    }
   ],
   "source": [
    "X"
   ]
  },
  {
   "cell_type": "markdown",
   "metadata": {},
   "source": [
    "- np.sort(X) 와 X.sort()의 결과는 다름\n",
    "\n",
    "- np.sort를 이용해 정렬하면 X는 바꾸지 않고 array 반환\n",
    "\n",
    "- X.sort()를 사용하면 실제 데이터가 정렬됨, 객체가 가지고 있는 sort"
   ]
  },
  {
   "cell_type": "code",
   "execution_count": 80,
   "metadata": {},
   "outputs": [
    {
     "output_type": "execute_result",
     "data": {
      "text/plain": "array([5, 0, 3, 3, 7])"
     },
     "metadata": {},
     "execution_count": 80
    }
   ],
   "source": [
    "np.random.seed(0)\n",
    "\n",
    "X = np.array(np.random.randint(10, size=5))\n",
    "X"
   ]
  },
  {
   "cell_type": "code",
   "execution_count": 81,
   "metadata": {},
   "outputs": [
    {
     "output_type": "execute_result",
     "data": {
      "text/plain": "array([1, 2, 3, 0, 4], dtype=int64)"
     },
     "metadata": {},
     "execution_count": 81
    }
   ],
   "source": [
    "idx = np.argsort(X)\n",
    "idx"
   ]
  },
  {
   "cell_type": "code",
   "execution_count": 82,
   "metadata": {},
   "outputs": [
    {
     "output_type": "execute_result",
     "data": {
      "text/plain": "array([0, 3, 3, 5, 7])"
     },
     "metadata": {},
     "execution_count": 82
    }
   ],
   "source": [
    "X[idx]"
   ]
  },
  {
   "cell_type": "markdown",
   "metadata": {},
   "source": [
    "- np.argsort()\n",
    "    - sort된 인덱스를 전달 \n",
    "\n",
    "\n",
    "- 이를 이용하면 팬시 인덱싱을 할 수 있음"
   ]
  },
  {
   "cell_type": "markdown",
   "metadata": {},
   "source": [
    "<br/>\n",
    "\n",
    "### Reference\n",
    "\n",
    "https://www.youtube.com/watch?v=rfTin5JeAas\n"
   ]
  }
 ]
}