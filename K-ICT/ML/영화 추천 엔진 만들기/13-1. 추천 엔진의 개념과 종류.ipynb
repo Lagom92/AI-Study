{
 "cells": [
  {
   "cell_type": "markdown",
   "metadata": {},
   "source": [
    "# 13. 영화 추천 엔진 만들기"
   ]
  },
  {
   "cell_type": "markdown",
   "metadata": {},
   "source": [
    "## 추천 엔진"
   ]
  },
  {
   "cell_type": "markdown",
   "metadata": {},
   "source": [
    "### 추천 엔진의 개요\n",
    "\n",
    "- 제품 정보와 사용자 정보와 같은 엄청난 양의 데이터를 분석하고 데이터 마이닝 방식을 기반으로 연관 추천을 제공하는 기술이자 도구\n",
    "\n",
    "- 사용자가 얼마나 해당 항목을 좋아할지 예측할 수 있는 수학적 모델 또는 목적 함수를 개발하는 것이 중요 과제\n",
    "\n",
    "- 많은 선택 가능한 제품들 사이에서 가장 좋은 결정을 내릴 수 있도록 적절한 추천을 하는 것이 목표"
   ]
  },
  {
   "cell_type": "markdown",
   "metadata": {},
   "source": [
    "### 추천 엔진의 종류"
   ]
  },
  {
   "cell_type": "markdown",
   "metadata": {},
   "source": [
    "- 협업 필터링 추천 시스템: 사용자 선호도를 이용해서 선택 가능한 많은 집합들로부터 아이템을 필터링함\n",
    "\n",
    "    - 사용자 기반 협업 필터링: 사용자 주변의 취향을 고려해 추천\n",
    "        \n",
    "        1. 유사한 선호도를 가진 사용자를 발견\n",
    "        \n",
    "        2. 활성 사용자는 아직 등급을 매기지 않은 아이템에 대해 유사한 사용자가 제공한 등급을 참고해 활성 사용자에게 새로운 아이템을 추천\n",
    "\n",
    "    - 아이템 기반 협업 필터링: 아이템의 유사 제품을 이용해 추천\n",
    "        \n",
    "        1. 아이템 선호도를 기반으로 아이템 유사도 계산\n",
    "\n",
    "        2. 활성 사용자가 과거 평가한 아이템과 가장 유사한 아직 평가하지 않은 아이템을 찾아서 아이템을 추천 "
   ]
  },
  {
   "cell_type": "markdown",
   "metadata": {},
   "source": [
    "- 콘텐츠 기반 추천 시스템: 아이템의 콘텐츠 정보를 활용, 아이템 속성과 해당 아이템 속성에 대한 사용자 선호도를 사용해 추천\n",
    "\n",
    "- 하이브리드 추천 시스템: 콘텐츠 기반 추천 시스템 + 협업 필터링 추천 시스템\n",
    "\n",
    "- 상황 인식 추천 시스템: 추천 항목을 계산하기 전에 시각, 계절, 분위기, 장소 등의 상황을 고려하는 유형의 추천 시스템"
   ]
  },
  {
   "cell_type": "markdown",
   "metadata": {},
   "source": [
    "<br/>\n",
    "\n",
    "### Reference\n",
    "\n",
    "- https://www.youtube.com/watch?v=mkSkIWQBK_Q"
   ]
  }
 ],
 "metadata": {
  "language_info": {
   "codemirror_mode": {
    "name": "ipython",
    "version": 3
   },
   "file_extension": ".py",
   "mimetype": "text/x-python",
   "name": "python",
   "nbconvert_exporter": "python",
   "pygments_lexer": "ipython3",
   "version": "3.7.6-final"
  },
  "orig_nbformat": 2,
  "kernelspec": {
   "name": "python37664bitd6c49ce9a0fb4da9a60aa5dde01a050b",
   "display_name": "Python 3.7.6 64-bit"
  }
 },
 "nbformat": 4,
 "nbformat_minor": 2
}