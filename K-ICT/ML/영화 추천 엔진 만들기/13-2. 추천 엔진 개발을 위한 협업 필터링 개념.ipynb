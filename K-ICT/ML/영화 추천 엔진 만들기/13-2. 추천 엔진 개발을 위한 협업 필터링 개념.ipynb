{
 "cells": [
  {
   "cell_type": "markdown",
   "metadata": {},
   "source": [
    "# 13. 영화 추천 엔진 만들기"
   ]
  },
  {
   "cell_type": "markdown",
   "metadata": {},
   "source": [
    "## 협업 필터링"
   ]
  },
  {
   "cell_type": "markdown",
   "metadata": {},
   "source": [
    "### 협업 필터링 개요"
   ]
  },
  {
   "cell_type": "markdown",
   "metadata": {},
   "source": [
    "- 어떤 특정인이 새로운 아이템에 대해 어떤 선호도를 갖는지를 예측하고자 할 때, 그 아이템에 대한 **다른 다수의 선호도 집합**을 활용하는 방법\n",
    "\n",
    "- 유사하다는 것은 단순히 나이나 성별 등을 의미하는 것이 아니라, 사용자에 의해 표현된 선호도, 예를 들면 비슷한 상품을 구입했거나, 상품에 대한 평가 등이 유사한 것을 의미하는\n",
    "\n",
    "- 아이템의 내용을 반드시 알아야 할 필요가 없음\n",
    "\n",
    "- 정보가 없는 새로운 아이템에 대해 고객이 구매하기 전에도 아이템을 평가 예측할 수 있음"
   ]
  },
  {
   "cell_type": "markdown",
   "metadata": {},
   "source": [
    "- 그 아이템에 대한 다른 다수의 선호도 집합 활용\n",
    "\n",
    "- 시간의 흐름에 따른 고객의 선호도 변화를 감지하는 유연성을 가짐"
   ]
  },
  {
   "cell_type": "markdown",
   "metadata": {},
   "source": [
    "### 추천 엔진 모델의 평가"
   ]
  },
  {
   "cell_type": "markdown",
   "metadata": {},
   "source": [
    "- 평균제곱오차(MSE: Mean Squared Error)\n",
    "\n",
    "- 평균제곱근오차(RMSE: Root Mean Squared Error): 변수 척도와 동일한 차원을 가지므로 오차항이 본래의 값과 비교해 얼마나 큰지 바로 분석 할 수 있음"
   ]
  },
  {
   "cell_type": "markdown",
   "metadata": {},
   "source": [
    "- 평가방식: 평균 제곱 오차, 평균 제곱근 오차\n",
    "\n",
    "\n",
    "- 잔차: 관측치와 예측치의 차이"
   ]
  },
  {
   "cell_type": "markdown",
   "metadata": {},
   "source": [
    "<br/>\n",
    "\n",
    "### Reference\n",
    "\n",
    "- https://www.youtube.com/watch?v=rgSfvV9QyDk"
   ]
  }
 ],
 "metadata": {
  "language_info": {
   "codemirror_mode": {
    "name": "ipython",
    "version": 3
   },
   "file_extension": ".py",
   "mimetype": "text/x-python",
   "name": "python",
   "nbconvert_exporter": "python",
   "pygments_lexer": "ipython3",
   "version": "3.7.6-final"
  },
  "orig_nbformat": 2,
  "kernelspec": {
   "name": "python37664bitd6c49ce9a0fb4da9a60aa5dde01a050b",
   "display_name": "Python 3.7.6 64-bit"
  }
 },
 "nbformat": 4,
 "nbformat_minor": 2
}