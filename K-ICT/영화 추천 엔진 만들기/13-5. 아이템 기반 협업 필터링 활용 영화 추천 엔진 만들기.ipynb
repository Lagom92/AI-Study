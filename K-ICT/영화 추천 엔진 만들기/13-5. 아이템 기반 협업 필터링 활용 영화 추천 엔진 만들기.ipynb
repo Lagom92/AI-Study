{
 "cells": [
  {
   "cell_type": "markdown",
   "metadata": {},
   "source": [
    "# 13.영화 추천 엔진 만들기"
   ]
  },
  {
   "cell_type": "code",
   "execution_count": 2,
   "metadata": {},
   "outputs": [
    {
     "output_type": "execute_result",
     "data": {
      "text/plain": "((631, 1682), (312, 1682))"
     },
     "metadata": {},
     "execution_count": 2
    }
   ],
   "source": [
    "# MovieLens data 가져오기\n",
    "import pandas as pd\n",
    "import numpy as np\n",
    "from sklearn.model_selection import train_test_split\n",
    "\n",
    "df = pd.read_csv(\"source/u.data\", sep=\"\\t\", header=None)\n",
    "df.columns = [\"user_id\", \"item_id\", \"rating\", \"timestamp\"]\n",
    "\n",
    "n_users = df.user_id.unique().shape[0]\n",
    "n_items = df.item_id.unique().shape[0]\n",
    "ratings = np.zeros((n_users, n_items))\n",
    "\n",
    "for row in df.itertuples():\n",
    "    ratings[row[1]-1, row[2]-1] = row[3]\n",
    "\n",
    "ratings_train, ratings_test = train_test_split(ratings, test_size=0.33, random_state=42)\n",
    "ratings_train.shape, ratings_test.shape"
   ]
  },
  {
   "cell_type": "markdown",
   "metadata": {},
   "source": [
    "### 영화의 수를 k로 사용해 영화 간 유사도 행렬 계산"
   ]
  },
  {
   "cell_type": "code",
   "execution_count": 6,
   "metadata": {},
   "outputs": [],
   "source": [
    "from sklearn.neighbors import NearestNeighbors\n",
    "\n",
    "k = ratings_train.shape[1]      # 영화의 수\n",
    "neigh = NearestNeighbors(n_neighbors=k, metric=\"cosine\")"
   ]
  },
  {
   "cell_type": "code",
   "execution_count": 7,
   "metadata": {},
   "outputs": [
    {
     "output_type": "execute_result",
     "data": {
      "text/plain": "NearestNeighbors(algorithm='auto', leaf_size=30, metric='cosine',\n                 metric_params=None, n_jobs=None, n_neighbors=1682, p=2,\n                 radius=1.0)"
     },
     "metadata": {},
     "execution_count": 7
    }
   ],
   "source": [
    "neigh.fit(ratings_train.T)"
   ]
  },
  {
   "cell_type": "code",
   "execution_count": 8,
   "metadata": {},
   "outputs": [],
   "source": [
    "# 유사도(거리)\n",
    "item_distances, _ = neigh.kneighbors(ratings_train.T, return_distance=True)"
   ]
  },
  {
   "cell_type": "code",
   "execution_count": 9,
   "metadata": {},
   "outputs": [
    {
     "output_type": "execute_result",
     "data": {
      "text/plain": "array([[0.        , 0.28112785, 0.30634744, ..., 1.        , 1.        ,\n        1.        ],\n       [0.        , 0.34340416, 0.36248159, ..., 1.        , 1.        ,\n        1.        ],\n       [0.        , 0.53423537, 0.54586079, ..., 1.        , 1.        ,\n        1.        ],\n       ...,\n       [1.        , 1.        , 1.        , ..., 1.        , 1.        ,\n        1.        ],\n       [0.        , 0.        , 0.4452998 , ..., 1.        , 1.        ,\n        1.        ],\n       [0.        , 0.0513167 , 0.50763404, ..., 1.        , 1.        ,\n        1.        ]])"
     },
     "metadata": {},
     "execution_count": 9
    }
   ],
   "source": [
    "item_distances"
   ]
  },
  {
   "cell_type": "code",
   "execution_count": 10,
   "metadata": {},
   "outputs": [
    {
     "output_type": "execute_result",
     "data": {
      "text/plain": "(1682, 1682)"
     },
     "metadata": {},
     "execution_count": 10
    }
   ],
   "source": [
    "item_distances.shape"
   ]
  },
  {
   "cell_type": "markdown",
   "metadata": {},
   "source": [
    "### 평가 예측 및 모델의 성능 측정"
   ]
  },
  {
   "cell_type": "code",
   "execution_count": 11,
   "metadata": {},
   "outputs": [],
   "source": [
    "item_pred = ratings_train.dot(item_distances) / np.array([np.abs(item_distances).sum(axis=1)])"
   ]
  },
  {
   "cell_type": "code",
   "execution_count": 13,
   "metadata": {},
   "outputs": [
    {
     "output_type": "execute_result",
     "data": {
      "text/plain": "(631, 1682)"
     },
     "metadata": {},
     "execution_count": 13
    }
   ],
   "source": [
    "item_pred.shape"
   ]
  },
  {
   "cell_type": "code",
   "execution_count": 14,
   "metadata": {},
   "outputs": [
    {
     "output_type": "execute_result",
     "data": {
      "text/plain": "array([[6.43138819e-17, 2.68346602e-01, 2.73377633e-01, ...,\n        5.76694411e-01, 5.91031787e-01, 5.89962397e-01],\n       [4.17758507e-17, 1.70392459e-01, 1.73586594e-01, ...,\n        3.31747919e-01, 3.39995605e-01, 3.39380431e-01],\n       [5.07105702e-17, 3.27208145e-01, 3.32466794e-01, ...,\n        6.26634958e-01, 6.42213921e-01, 6.41051924e-01],\n       ...,\n       [8.85422654e-18, 6.34129164e-02, 6.25449872e-02, ...,\n        1.02259215e-01, 1.04801513e-01, 1.04611889e-01],\n       [3.29216241e-17, 1.66859982e-01, 1.67810294e-01, ...,\n        3.23424495e-01, 3.31465250e-01, 3.30865509e-01],\n       [1.55351429e-17, 2.53346239e-02, 2.63412738e-02, ...,\n        6.24256837e-02, 6.39776677e-02, 6.38619090e-02]])"
     },
     "metadata": {},
     "execution_count": 14
    }
   ],
   "source": [
    "item_pred"
   ]
  },
  {
   "cell_type": "code",
   "execution_count": null,
   "metadata": {},
   "outputs": [],
   "source": []
  },
  {
   "cell_type": "code",
   "execution_count": null,
   "metadata": {},
   "outputs": [],
   "source": []
  },
  {
   "cell_type": "code",
   "execution_count": null,
   "metadata": {},
   "outputs": [],
   "source": []
  }
 ],
 "metadata": {
  "language_info": {
   "codemirror_mode": {
    "name": "ipython",
    "version": 3
   },
   "file_extension": ".py",
   "mimetype": "text/x-python",
   "name": "python",
   "nbconvert_exporter": "python",
   "pygments_lexer": "ipython3",
   "version": "3.7.6-final"
  },
  "orig_nbformat": 2,
  "kernelspec": {
   "name": "python37664bitd6c49ce9a0fb4da9a60aa5dde01a050b",
   "display_name": "Python 3.7.6 64-bit"
  }
 },
 "nbformat": 4,
 "nbformat_minor": 2
}