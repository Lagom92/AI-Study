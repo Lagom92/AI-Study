{
 "nbformat": 4,
 "nbformat_minor": 2,
 "metadata": {
  "language_info": {
   "name": "python",
   "codemirror_mode": {
    "name": "ipython",
    "version": 3
   },
   "version": "3.7.6-final"
  },
  "orig_nbformat": 2,
  "file_extension": ".py",
  "mimetype": "text/x-python",
  "name": "python",
  "npconvert_exporter": "python",
  "pygments_lexer": "ipython3",
  "version": 3,
  "kernelspec": {
   "name": "python37664bitd6c49ce9a0fb4da9a60aa5dde01a050b",
   "display_name": "Python 3.7.6 64-bit"
  }
 },
 "cells": [
  {
   "cell_type": "markdown",
   "metadata": {},
   "source": [
    "# 7.6. 다중 선형 회귀"
   ]
  },
  {
   "cell_type": "markdown",
   "metadata": {},
   "source": [
    "### 다중 선형 회귀의 개요"
   ]
  },
  {
   "cell_type": "markdown",
   "metadata": {},
   "source": [
    "- 다중 선형 회귀란 설명 변수인 다수의 특징과 단일 반응 변수 간에 선형 관계가 있다고 가정하고 초평면이라고 하는 선형 평면을 이용해 모델링한 것\n",
    "\n",
    "- 다중 회귀는 설명 변수의 n차원과 반응 변수의 1차원, 모두 n+1개의 차원을 가지며, 초평면은 한 차원 낮은 n차원이 됨\n",
    "\n",
    "- y = a + b_1*x_1 + b_2*x_2 + b_3*x_3 + ... + b_n*x_n\n",
    "\n",
    "    - y: 반응 변수의 예측값\n",
    "    - 절편항 a와 계수 b_n: 알고리즘을 통해 학습하게 되는 모델의 파라미터\n",
    "    - x_n: 설명 변수"
   ]
  },
  {
   "cell_type": "markdown",
   "metadata": {},
   "source": [
    "- 다중 선형 회귀를 시각화하려면 차원 축소나 아이소맵 같은 기술을 사용해야 함"
   ]
  },
  {
   "cell_type": "markdown",
   "metadata": {},
   "source": [
    "### 다중 선형 회귀의 벡터 정리"
   ]
  },
  {
   "cell_type": "markdown",
   "metadata": {},
   "source": [
    "- 선형 회귀 모델의 벡터 표기법\n",
    "\n",
    "    - Y = XB\n",
    "\n",
    "        - Y: 반응 변수의 예측값을 가진 열벡터 \n",
    "        - B: 알고리즘을 통해 학습하게 되는 모델의 파라미터 값을 갖는 열 벡터\n",
    "        - X: 설명 변수 값을 갖는 m x n 차원 행렬로 m은 훈련데이터의 개수, n은 특징의 개수"
   ]
  },
  {
   "cell_type": "code",
   "execution_count": null,
   "metadata": {},
   "outputs": [],
   "source": [
    "- 훈련 데이터로 부터 X와 Y의 값을 알고 있으므로 비용함수를 최소화하는 b를 계산\n",
    "\n",
    "- 행렬 연산에서는 나누기가 없으므로 역행렬을 사용해야 함\n",
    "\n",
    "- 역함수를 사용하려면 정방행렬이어야 함\n",
    "\n",
    "    - Y = Xb\n",
    "\n",
    "    - b = (X^T X)^-1 X^T Y"
   ]
  },
  {
   "cell_type": "markdown",
   "metadata": {},
   "source": [
    "- 역함수를 사용하기 위해 정방행렬이어야 함\n",
    "\n",
    "- 정방행렬로 만들기 위해서는 전치행렬이 필요함\n",
    "\n",
    "- 전치행렬: 열과 행을 바꾼것"
   ]
  },
  {
   "cell_type": "markdown",
   "metadata": {},
   "source": [
    "- numpy에 dot(), inv(), transpose() 등이 있으므로 사용하면 됨"
   ]
  },
  {
   "cell_type": "markdown",
   "metadata": {},
   "source": [
    "<br/>\n",
    "\n",
    "### Reference\n",
    "\n",
    "https://www.youtube.com/watch?v=zOGrc719LgQ"
   ]
  }
 ]
}