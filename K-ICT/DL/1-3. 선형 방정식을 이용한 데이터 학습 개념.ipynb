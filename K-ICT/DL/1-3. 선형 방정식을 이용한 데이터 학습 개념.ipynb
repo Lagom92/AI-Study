{
 "cells": [
  {
   "cell_type": "markdown",
   "metadata": {},
   "source": [
    "# 1-3. 선형 방정식을 이용한 데이터 학습 개념"
   ]
  },
  {
   "cell_type": "markdown",
   "metadata": {},
   "source": [
    "### 직선의 방정식을 이용한 데이터 학습\n",
    "\n",
    "y = wx + b"
   ]
  },
  {
   "cell_type": "code",
   "execution_count": 1,
   "metadata": {},
   "outputs": [],
   "source": [
    "x = [1, 2, 3, 4, 5, 10, 20, 30]\n",
    "y = [3, 5, 7, 9, 11, 21, 41, 61]"
   ]
  },
  {
   "cell_type": "markdown",
   "metadata": {},
   "source": [
    "- y = 2x + 1"
   ]
  },
  {
   "cell_type": "markdown",
   "metadata": {},
   "source": [
    "### 데이터 기반 학습 최적화\n",
    "\n",
    "- 임의로 두 개의 데이터 사용\n",
    "\n",
    "- 가장 작은 데이터와 가장 큰 데이터 사용\n",
    "\n",
    "- 가설에 대한 오차가 가장 적은 직선의 방정식 추정"
   ]
  },
  {
   "cell_type": "markdown",
   "metadata": {},
   "source": [
    "오차(error) = | 실제값 - 예측값 |"
   ]
  },
  {
   "cell_type": "markdown",
   "metadata": {},
   "source": [
    "### 오차에 대한 수학적 정의\n",
    "\n",
    "- 평균 절대값 오차 MAE(Mean Absolute Error)\n",
    "\n",
    "- 평균 제곱 오차 MSE(Mean Square Error)\n",
    "\n",
    "- 평균 제곱근 오차 RMSE(Root Mean Square Error)\n",
    "\n",
    "    - 가장 보편적으로 사용"
   ]
  },
  {
   "cell_type": "markdown",
   "metadata": {},
   "source": [
    "- 오차를 정의할때 음수를 양수로 만들기 위해서 절대값과 제곱해서 사용하는 것은 차이가 있다."
   ]
  },
  {
   "cell_type": "markdown",
   "metadata": {},
   "source": [
    "### 절대값 오차와 제곱근 오차의 기하학적 해석"
   ]
  },
  {
   "cell_type": "markdown",
   "metadata": {},
   "source": [
    "- 거리: 1차원 공간의 직선의 길이\n",
    "\n",
    "    - 절대값\n",
    "\n",
    "1차원이 아닌 다차원에서는 다름\n",
    "\n",
    "1. 가로 길이 + 세로 길이\n",
    "\n",
    "2. 절대값을 사용하는것\n",
    "\n",
    "    - 더 정확함\n",
    "\n",
    "<br/>\n",
    "\n",
    "![](./img/error.PNG)"
   ]
  },
  {
   "cell_type": "markdown",
   "metadata": {},
   "source": [
    "### 1차 연립방정식을 이용한 데이터 학습\n",
    "\n",
    "x = \\[1, 2, 3\\]\n",
    "\n",
    "y = \\[2, 4.4, 6.4\\]\n",
    "\n",
    "- 평균 제곱근 오차 RMSE\n",
    "\n",
    "    - 정확한 해가 존재하지 않으므로 가장 근사한 해를 구해야 함\n",
    "\n",
    "    - 최소자승법, 공유값 분해, 역행렬"
   ]
  },
  {
   "cell_type": "markdown",
   "metadata": {},
   "source": [
    "**역행렬을 이용한 최적해 구하기**\n",
    "\n",
    "- 역행렬을 이용해 w와 b 계산\n",
    "\n",
    "- 정방행렬이 아닌경우 의사역행렬을 사용해야 함"
   ]
  },
  {
   "cell_type": "markdown",
   "metadata": {},
   "source": [
    "### 데이터 기반 학습 지도\n",
    "\n",
    "- 학습 데이터\n",
    "\n",
    "    - (x, y) 데이터\n",
    "\n",
    "- 학습의 정의\n",
    "\n",
    "    - 가설: h = wx + b \n",
    "\n",
    "    - 기울기 x와 y절편 b\n",
    "\n",
    "- 학습 방법\n",
    "\n",
    "    - 선형 연립방정식과 역행렬을 이용한 미지수 w, b 추정"
   ]
  },
  {
   "cell_type": "markdown",
   "metadata": {},
   "source": [
    "<br/>\n",
    "\n",
    "<br/>\n",
    "\n",
    "### Reference\n",
    "\n",
    "- https://www.youtube.com/watch?v=ZJ-tUvx1wQ4"
   ]
  }
 ],
 "metadata": {
  "language_info": {
   "codemirror_mode": {
    "name": "ipython",
    "version": 3
   },
   "file_extension": ".py",
   "mimetype": "text/x-python",
   "name": "python",
   "nbconvert_exporter": "python",
   "pygments_lexer": "ipython3",
   "version": "3.7.6-final"
  },
  "orig_nbformat": 2,
  "kernelspec": {
   "name": "python37664bitd6c49ce9a0fb4da9a60aa5dde01a050b",
   "display_name": "Python 3.7.6 64-bit"
  }
 },
 "nbformat": 4,
 "nbformat_minor": 2
}