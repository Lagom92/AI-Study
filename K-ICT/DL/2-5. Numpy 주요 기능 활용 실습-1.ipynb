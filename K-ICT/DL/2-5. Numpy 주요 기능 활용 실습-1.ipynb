{
 "cells": [
  {
   "cell_type": "markdown",
   "metadata": {},
   "source": [
    "# 2-5. Numpy 주요 기능 활용 실습"
   ]
  },
  {
   "cell_type": "markdown",
   "metadata": {},
   "source": [
    "## Numpy 활용\n",
    "\n",
    "### 실습 내용\n",
    "\n",
    "- Numpy 배열 생성, 저장, 로딩\n",
    "\n",
    "- Numpy 기본 사칙 연산\n",
    "\n",
    "- Numpy 행렬 연산\n",
    "\n",
    "- Numpy 브로드캐스팅 연산\n",
    "\n",
    "- 실제 데이터를 이용한 학습과 예측"
   ]
  },
  {
   "cell_type": "code",
   "execution_count": 1,
   "metadata": {},
   "outputs": [],
   "source": [
    "import numpy as np\n",
    "import numpy.linalg as lin\n",
    "import time"
   ]
  },
  {
   "cell_type": "markdown",
   "metadata": {},
   "source": [
    "## 1. Numpy array 생성과 저장\n",
    "\n",
    "### 1-1. Numpy array 생성"
   ]
  },
  {
   "cell_type": "code",
   "execution_count": 2,
   "metadata": {
    "tags": []
   },
   "outputs": [
    {
     "output_type": "stream",
     "name": "stdout",
     "text": "2.0\n"
    }
   ],
   "source": [
    "# array() 함수를 사용한 배열 객체 a 생성\n",
    "a = np.array(2.0)\n",
    "print(a)"
   ]
  },
  {
   "cell_type": "code",
   "execution_count": 3,
   "metadata": {
    "tags": []
   },
   "outputs": [
    {
     "output_type": "stream",
     "name": "stdout",
     "text": "<class 'numpy.ndarray'>\n"
    }
   ],
   "source": [
    "print(type(a))"
   ]
  },
  {
   "cell_type": "code",
   "execution_count": 4,
   "metadata": {
    "tags": []
   },
   "outputs": [
    {
     "output_type": "stream",
     "name": "stdout",
     "text": "()\n"
    }
   ],
   "source": [
    "# shape으로 크기 출력\n",
    "print(a.shape)"
   ]
  },
  {
   "cell_type": "code",
   "execution_count": 5,
   "metadata": {
    "tags": []
   },
   "outputs": [
    {
     "output_type": "stream",
     "name": "stdout",
     "text": "차원 0\n"
    }
   ],
   "source": [
    "if a.shape == ():\n",
    "    print(\"차원 0\")"
   ]
  },
  {
   "cell_type": "code",
   "execution_count": 6,
   "metadata": {},
   "outputs": [],
   "source": [
    "b = np.array([2.0])"
   ]
  },
  {
   "cell_type": "code",
   "execution_count": 7,
   "metadata": {
    "tags": []
   },
   "outputs": [
    {
     "output_type": "stream",
     "name": "stdout",
     "text": "[2.] <class 'numpy.ndarray'>\n"
    }
   ],
   "source": [
    "print(b, type(b))"
   ]
  },
  {
   "cell_type": "code",
   "execution_count": 8,
   "metadata": {
    "tags": []
   },
   "outputs": [
    {
     "output_type": "stream",
     "name": "stdout",
     "text": "(1,) length: 1\n"
    }
   ],
   "source": [
    "print(b.shape, f\"length: {b.shape[0]}\")"
   ]
  },
  {
   "cell_type": "code",
   "execution_count": 9,
   "metadata": {},
   "outputs": [],
   "source": [
    "# 3개의 원소로 이루어진 객체 c 생성\n",
    "c = np.array([2, 3, 4])"
   ]
  },
  {
   "cell_type": "code",
   "execution_count": 10,
   "metadata": {
    "tags": []
   },
   "outputs": [
    {
     "output_type": "stream",
     "name": "stdout",
     "text": "[2 3 4] (3,) length: 3\n"
    }
   ],
   "source": [
    "print(c, c.shape, f\"length: {c.shape[0]}\")"
   ]
  },
  {
   "cell_type": "code",
   "execution_count": 11,
   "metadata": {
    "tags": []
   },
   "outputs": [
    {
     "output_type": "stream",
     "name": "stdout",
     "text": "[[1 2]\n [3 4]\n [5 6]]\n(3, 2)\n행의 크기: 3\n열의 크기: 2\n"
    }
   ],
   "source": [
    "# 3x2 행렬 m 생성\n",
    "m = np.array([[1, 2], [3, 4], [5, 6]])\n",
    "\n",
    "print(m)\n",
    "print(m.shape)\n",
    "print(f\"행의 크기: {m.shape[0]}\")\n",
    "print(f\"열의 크기: {m.shape[1]}\")"
   ]
  },
  {
   "cell_type": "code",
   "execution_count": 12,
   "metadata": {
    "tags": []
   },
   "outputs": [
    {
     "output_type": "stream",
     "name": "stdout",
     "text": "[[1 2 3]]\n(1, 3)\n"
    }
   ],
   "source": [
    "# 1x3 행벡터 m 생성\n",
    "m = np.array([[1, 2, 3]])\n",
    "\n",
    "print(m)\n",
    "print(m.shape)"
   ]
  },
  {
   "cell_type": "code",
   "execution_count": 13,
   "metadata": {
    "tags": []
   },
   "outputs": [
    {
     "output_type": "stream",
     "name": "stdout",
     "text": "[[1]\n [2]\n [3]]\n(3, 1)\n"
    }
   ],
   "source": [
    "# 3x1 열벡터 m 생성\n",
    "m = np.array([[1], [2], [3]])\n",
    "\n",
    "print(m)\n",
    "print(m.shape)"
   ]
  },
  {
   "cell_type": "markdown",
   "metadata": {},
   "source": [
    "**Numpy array는 모든 원소의 타입이 동일 하다고 가정**\n",
    "\n"
   ]
  },
  {
   "cell_type": "code",
   "execution_count": 14,
   "metadata": {
    "tags": []
   },
   "outputs": [
    {
     "output_type": "stream",
     "name": "stdout",
     "text": "<class 'list'>\n<class 'int'>\n<class 'float'>\nint32\nfloat64\n<class 'numpy.float64'>\n<class 'numpy.float64'>\n"
    }
   ],
   "source": [
    "a = [1, 2.0]        # python list(정수, 실수)\n",
    "b = np.array([1, 2, 3])     # numpy array(정수)\n",
    "c = np.array([1, 2, 3.0])   # numpy array(정수, 실수)\n",
    "\n",
    "# list는 각각의 type을 유지함\n",
    "print(type(a))\n",
    "print(type(a[0]))\n",
    "print(type(a[1]))\n",
    "\n",
    "# dtype으로 데이터 타입 확인\n",
    "print(b.dtype)\n",
    "print(c.dtype)\n",
    "\n",
    "print(type(c[0]))\n",
    "print(type(c[2]))"
   ]
  },
  {
   "cell_type": "markdown",
   "metadata": {},
   "source": [
    "- numpy에서는 list 객체 타입을 통해 자동으로 형 결정\n",
    "\n",
    "- numpy에서는 고속 수치 계산을 위해 단일 데이터 타입을 사용"
   ]
  },
  {
   "cell_type": "code",
   "execution_count": 15,
   "metadata": {
    "tags": []
   },
   "outputs": [
    {
     "output_type": "stream",
     "name": "stdout",
     "text": "[[1, 2], [3, 4, 5]]\n[list([1, 2]) list([3, 4, 5])]\n"
    }
   ],
   "source": [
    "a = [[1, 2], [3, 4, 5]]\n",
    "b = np.array([[1, 2], [3, 4, 5]])\n",
    "\n",
    "print(a)\n",
    "print(b)"
   ]
  },
  {
   "cell_type": "markdown",
   "metadata": {},
   "source": [
    "- numpy는 격자 형태의 array 만 지원"
   ]
  },
  {
   "cell_type": "markdown",
   "metadata": {},
   "source": [
    "### 1-2. array 원소 접근\n",
    "\n",
    "- 배열 데이터의 특정 위치를 효과적으로 접근할 수 있는 다양한 슬라이싱 표현 제공"
   ]
  },
  {
   "cell_type": "code",
   "execution_count": 16,
   "metadata": {
    "tags": []
   },
   "outputs": [
    {
     "output_type": "stream",
     "name": "stdout",
     "text": "[[1 2 3]\n [4 5 6]\n [7 8 9]]\na[0, 0]:  1\n[0]:  [1 2 3]\na[:, 1]:  [2 5 8]\na[1, 1:3]:  [5 6]\n"
    }
   ],
   "source": [
    "a = np.array([[1, 2, 3], [4, 5, 6], [7, 8, 9]])\n",
    "\n",
    "print(a)\n",
    "print(f\"a[0, 0]: \", a[0, 0])        # 1행 1열의 값\n",
    "print(f\"[0]: \", a[0])               # 행렬의 1번째 행의 값\n",
    "print(f\"a[:, 1]: \", a[:, 1])        # 2번째 열의 값\n",
    "print(f\"a[1, 1:3]: \", a[1, 1:3])    # 2행 2열부터 4열의 값"
   ]
  },
  {
   "cell_type": "code",
   "execution_count": 17,
   "metadata": {
    "tags": []
   },
   "outputs": [
    {
     "output_type": "stream",
     "name": "stdout",
     "text": "[[1 2 3]\n [7 8 9]]\n"
    }
   ],
   "source": [
    "i = [0, 2]\n",
    "b = a[i, :]     # 1번째, 3번째 행의 모든 열 정보\n",
    "print(b)"
   ]
  },
  {
   "cell_type": "code",
   "execution_count": 18,
   "metadata": {},
   "outputs": [
    {
     "output_type": "execute_result",
     "data": {
      "text/plain": "array([1, 3, 5, 7, 9])"
     },
     "metadata": {},
     "execution_count": 18
    }
   ],
   "source": [
    "# 범위(시작값, 도착값, 간격 정보)를 지정해 슬라이싱하기\n",
    "c = np.array([1, 2, 3, 4, 5, 6, 7,  8, 9])\n",
    "# 0 ~ 7번째 까지 2씩 증가해서 원소 슬라이싱\n",
    "c[0::2]     "
   ]
  },
  {
   "cell_type": "code",
   "execution_count": 19,
   "metadata": {},
   "outputs": [
    {
     "output_type": "execute_result",
     "data": {
      "text/plain": "array([[4, 5, 6]])"
     },
     "metadata": {},
     "execution_count": 19
    }
   ],
   "source": [
    "a[1:-1]"
   ]
  },
  {
   "cell_type": "code",
   "execution_count": 20,
   "metadata": {},
   "outputs": [
    {
     "output_type": "execute_result",
     "data": {
      "text/plain": "array([[4, 5, 6],\n       [7, 8, 9]])"
     },
     "metadata": {},
     "execution_count": 20
    }
   ],
   "source": [
    "a[1:]"
   ]
  },
  {
   "cell_type": "code",
   "execution_count": 21,
   "metadata": {
    "tags": []
   },
   "outputs": [
    {
     "output_type": "stream",
     "name": "stdout",
     "text": "[[1 2 3]\n [4 5 6]\n [7 8 9]]\n[[0 2 3]\n [9 5 7]\n [1 8 9]]\n"
    }
   ],
   "source": [
    "# 행이나 열 값 변경\n",
    "print(a)\n",
    "a[1, 2] = 7\n",
    "a[:, 0] = [0, 9, 1]\n",
    "print(a)"
   ]
  },
  {
   "cell_type": "code",
   "execution_count": 22,
   "metadata": {
    "tags": []
   },
   "outputs": [
    {
     "output_type": "stream",
     "name": "stdout",
     "text": "[[ 1  2  3  4]\n [ 5  6  7  8]\n [ 9 10 11 12]\n [13 14 15 16]]\n[[ 1  2  3  4]\n [ 5  0  0  8]\n [ 9  0  0 12]\n [13 14 15 16]]\n"
    }
   ],
   "source": [
    "# 배열의 일부분을 0으로 만들기\n",
    "a = np.array([[1, 2, 3, 4], [5, 6, 7, 8], [9, 10, 11, 12], [13, 14, 15, 16]])\n",
    "print(a)\n",
    "\n",
    "a[1:-1, 1:-1] = 0\n",
    "print(a)"
   ]
  },
  {
   "cell_type": "markdown",
   "metadata": {},
   "source": [
    "### 1-3. shape 재구성\n",
    "\n",
    "- 크기를 재구성하는 T(transpose), reshape 함수"
   ]
  },
  {
   "cell_type": "code",
   "execution_count": 23,
   "metadata": {
    "tags": []
   },
   "outputs": [
    {
     "output_type": "stream",
     "name": "stdout",
     "text": "(2, 3) (3, 2) (3, 2)\n"
    }
   ],
   "source": [
    "a = np.array([[1, 2, 3], [4, 5, 6]])\n",
    "b = np.array([[1, 2, 3], [4, 5, 6]]).T\n",
    "c = np.array([[1, 2, 3], [4, 5, 6]]).transpose()\n",
    "\n",
    "print(a.shape, b.shape, c.shape)"
   ]
  },
  {
   "cell_type": "code",
   "execution_count": 24,
   "metadata": {
    "tags": []
   },
   "outputs": [
    {
     "output_type": "stream",
     "name": "stdout",
     "text": "[[1 2 3 4]]\n[[1]\n [2]\n [3]\n [4]]\n(1, 4) (4, 1)\n"
    }
   ],
   "source": [
    "# 행벡터를 열벡터로 변경\n",
    "a = np.array([[1, 2, 3, 4]])\n",
    "b = np.array([[1, 2, 3, 4]]).T\n",
    "\n",
    "print(a)\n",
    "print(b)\n",
    "print(a.shape, b.shape)"
   ]
  },
  {
   "cell_type": "code",
   "execution_count": 25,
   "metadata": {
    "tags": []
   },
   "outputs": [
    {
     "output_type": "stream",
     "name": "stdout",
     "text": "[1 2 3 4]\n[1 2 3 4]\n(4,) (4,)\n"
    }
   ],
   "source": [
    "# 1차원 벡터의 경우\n",
    "a = np.array([1, 2, 3, 4])\n",
    "b = np.array([1, 2, 3, 4]).T\n",
    "\n",
    "print(a)\n",
    "print(b)\n",
    "print(a.shape, b.shape)"
   ]
  },
  {
   "cell_type": "code",
   "execution_count": 26,
   "metadata": {
    "tags": []
   },
   "outputs": [
    {
     "output_type": "stream",
     "name": "stdout",
     "text": "[[1 2 3 4]]\n[[1]\n [2]\n [3]\n [4]]\n(1, 4) (4, 1)\n"
    }
   ],
   "source": [
    "# T는 transpose()의 축약 표현\n",
    "a = np.array([[1, 2, 3, 4]])\n",
    "b = np.array([[1, 2, 3, 4]]).transpose()\n",
    "\n",
    "print(a)\n",
    "print(b)\n",
    "print(a.shape, b.shape)"
   ]
  },
  {
   "cell_type": "code",
   "execution_count": 27,
   "metadata": {
    "tags": []
   },
   "outputs": [
    {
     "output_type": "stream",
     "name": "stdout",
     "text": "[[ 1  2]\n [ 3  4]\n [ 5  6]\n [ 7  8]\n [ 9 10]\n [11 12]]\n[[ 1  2  3  4]\n [ 5  6  7  8]\n [ 9 10 11 12]]\n(6, 2) (3, 4)\n"
    }
   ],
   "source": [
    "# reshape() 함수로 임의의 크기로 shape 변경하기\n",
    "# 원소의 개수가 반드시 일치해야 함\n",
    "a = np.array([[1, 2], [3, 4], [5, 6], [7, 8], [9, 10], [11, 12]])\n",
    "b = a.reshape(3, 4)\n",
    "\n",
    "print(a)\n",
    "print(b)\n",
    "print(a.shape, b.shape)"
   ]
  },
  {
   "cell_type": "code",
   "execution_count": 28,
   "metadata": {
    "tags": []
   },
   "outputs": [
    {
     "output_type": "stream",
     "name": "stdout",
     "text": "[1 2 3 4 5 6]\n[[1 2 3]\n [4 5 6]]\n(6,) (2, 3)\n"
    }
   ],
   "source": [
    "# reshape() 함수를 이용해 1차원 벡터를 2차원 행렬로 변경하기\n",
    "a = np.array([1, 2, 3, 4, 5, 6])\n",
    "b = a.reshape(2, 3)\n",
    "\n",
    "print(a)\n",
    "print(b)\n",
    "print(a.shape, b.shape)"
   ]
  },
  {
   "cell_type": "code",
   "execution_count": 29,
   "metadata": {
    "tags": []
   },
   "outputs": [
    {
     "output_type": "stream",
     "name": "stdout",
     "text": "[[1]\n [2]\n [3]\n [4]]\n[[1]\n [2]\n [3]\n [4]]\n[[1]\n [2]\n [3]\n [4]]\n[1 2 3 4]\n"
    }
   ],
   "source": [
    "# reshape() 함수를 이용해서 열벡터 만들기\n",
    "a = np.array([[1], [2], [3], [4]])\n",
    "b = np.array([[1, 2, 3, 4]]).T\n",
    "c = np.array([1, 2, 3, 4]).reshape(4, 1)\n",
    "d = np.array([1, 2, 3, 4]).T        # 1차원은 열벡터로 만들 수 없음\n",
    "\n",
    "print(a)\n",
    "print(b)\n",
    "print(c)\n",
    "print(d)"
   ]
  },
  {
   "cell_type": "markdown",
   "metadata": {},
   "source": [
    "### 1-4. 저장과 로딩\n",
    "\n",
    "- save(), load() 함수를 이용해 파일 저장 및 읽어오기"
   ]
  },
  {
   "cell_type": "code",
   "execution_count": 30,
   "metadata": {
    "tags": []
   },
   "outputs": [
    {
     "output_type": "stream",
     "name": "stdout",
     "text": "[[1 2 3]\n [4 5 6]\n [7 8 9]]\n"
    }
   ],
   "source": [
    "# save()\n",
    "a = np.array([[1, 2, 3], [4, 5, 6], [7, 8, 9]])\n",
    "np.save(\"a.npy\", a)\n",
    "\n",
    "# load()\n",
    "b = np.load(\"a.npy\")\n",
    "print(b)"
   ]
  },
  {
   "cell_type": "markdown",
   "metadata": {},
   "source": [
    "- csv 파일\n",
    "\n",
    "- loadtxt() 함수로 csv 파일 로딩"
   ]
  },
  {
   "cell_type": "markdown",
   "metadata": {},
   "source": [
    "<br/>\n",
    "\n",
    "<br/>\n",
    "\n",
    "### Reference\n",
    "\n",
    "- https://www.youtube.com/watch?v=Mb7CLwKd_Zc"
   ]
  }
 ],
 "metadata": {
  "language_info": {
   "codemirror_mode": {
    "name": "ipython",
    "version": 3
   },
   "file_extension": ".py",
   "mimetype": "text/x-python",
   "name": "python",
   "nbconvert_exporter": "python",
   "pygments_lexer": "ipython3",
   "version": "3.7.6-final"
  },
  "orig_nbformat": 2,
  "kernelspec": {
   "name": "python37664bitd6c49ce9a0fb4da9a60aa5dde01a050b",
   "display_name": "Python 3.7.6 64-bit"
  }
 },
 "nbformat": 4,
 "nbformat_minor": 2
}