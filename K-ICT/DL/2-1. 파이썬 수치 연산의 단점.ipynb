{
 "cells": [
  {
   "cell_type": "markdown",
   "metadata": {},
   "source": [
    "# 2. Python에서의 고속 데이터 처리"
   ]
  },
  {
   "cell_type": "markdown",
   "metadata": {},
   "source": [
    "# 2-1. 파이썬 수치 연산의 단점"
   ]
  },
  {
   "cell_type": "markdown",
   "metadata": {},
   "source": [
    "- 파이썬은 스크립트 언어라 반복문을 사용해 배열 연산을 할 경우 계산 속도가 매우 느리다.\n",
    "\n",
    "- 그래서 Numpy를 사용한다."
   ]
  },
  {
   "cell_type": "markdown",
   "metadata": {},
   "source": [
    "### 수치 계산을 위한 Python 문제점"
   ]
  },
  {
   "cell_type": "markdown",
   "metadata": {},
   "source": [
    "- list를 통해 다차원 배열을 지원하므로 이를 이용해서 행렬 및 벡터 생성 및 연산을 수행 할 수 있다.\n",
    "\n",
    "- 하지만 행렬 및 벡터 연산을 직접적으로 지원하지 않는다.\n",
    "\n",
    "- 다차원 데이터를 효과적으로 연산할 수 없다.\n",
    "\n",
    "- 대용량 고속 수치 계산을 위한 라이브러리가 요구됨"
   ]
  },
  {
   "cell_type": "code",
   "execution_count": null,
   "metadata": {},
   "outputs": [],
   "source": []
  },
  {
   "cell_type": "code",
   "execution_count": null,
   "metadata": {},
   "outputs": [],
   "source": []
  },
  {
   "cell_type": "markdown",
   "metadata": {},
   "source": [
    "<br/>\n",
    "\n",
    "<br/>\n",
    "\n",
    "### Reference\n",
    "\n",
    "- https://www.youtube.com/watch?v=C3Xi1hrMfDg"
   ]
  }
 ],
 "metadata": {
  "language_info": {
   "codemirror_mode": {
    "name": "ipython",
    "version": 3
   },
   "file_extension": ".py",
   "mimetype": "text/x-python",
   "name": "python",
   "nbconvert_exporter": "python",
   "pygments_lexer": "ipython3",
   "version": 3
  },
  "orig_nbformat": 2
 },
 "nbformat": 4,
 "nbformat_minor": 2
}