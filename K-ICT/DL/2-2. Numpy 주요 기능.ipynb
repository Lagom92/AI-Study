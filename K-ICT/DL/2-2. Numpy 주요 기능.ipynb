{
 "cells": [
  {
   "cell_type": "markdown",
   "metadata": {},
   "source": [
    "# 2. Python에서의 고속 데이터 처리"
   ]
  },
  {
   "cell_type": "markdown",
   "metadata": {},
   "source": [
    "# 2-2. Numpy 주요 기능 1"
   ]
  },
  {
   "cell_type": "markdown",
   "metadata": {},
   "source": [
    "## Numpy 모듈 특성 파악"
   ]
  },
  {
   "cell_type": "markdown",
   "metadata": {},
   "source": [
    "### Numpy 라이브러리\n",
    "\n",
    "- 다차원, 고속 배열 지원\n",
    "\n",
    "- 다차원 배열에 대한 직접 연산 지원\n",
    "\n",
    "    - 반복문 없이 수학적 표현 가능\n",
    "\n",
    "- 다양한 선형 대수 함수 지원\n",
    "\n",
    "- 행렬 변환 함수 지원\n",
    "\n",
    "- 신뢰성 있고 검증된 수치 연산 함수 라이브러리"
   ]
  },
  {
   "cell_type": "markdown",
   "metadata": {},
   "source": [
    "# 2-3. Numpy 주요 기능 2"
   ]
  },
  {
   "cell_type": "markdown",
   "metadata": {},
   "source": [
    "## Numpy 행렬과 벡터 개념 이해"
   ]
  },
  {
   "cell_type": "markdown",
   "metadata": {},
   "source": [
    "### 다차원 벡터 및 행렬 지원\n",
    "\n",
    "<br/>\n",
    "\n",
    "V = np.array(\\[2, 3, 4\\])\n",
    "\n",
    "- 3개의 원소로 이루어진 벡터\n",
    "\n",
    "<br/>\n",
    "\n",
    "M = np.array(\\[\\[1, 2\\], \\[3, 4\\], \\[5, 6\\]\\])\n",
    "\n",
    "- 리스트의 리스트 사용, 3x2 행렬\n",
    "\n",
    "- 3개의 리스트, 각각의 리스트가 2개의 원소 --> 3x2 \n",
    "\n",
    "<br/>\n",
    "\n",
    "M = np.array( \\[\\[1, 2, 3\\]\\])\n",
    "\n",
    "- 수학에서 사용하는 행벡터\n",
    "\n",
    "- 1개 행, 3개의 원소\n",
    "\n",
    "<br/>\n",
    "\n",
    "M = np.array(\\[\\[1\\], \\[2\\], \\[3\\]\\])\n",
    "\n",
    "- 3x1 행렬(열벡터)\n",
    "\n",
    "- 3개 행, 각 1개의 원소\n",
    "\n",
    "<br/>\n",
    "\n",
    "M = np.array(\\[\\[1, 2, 3\\], \\[4, 5, 6\\]\\]).reshape(3, 2)\n",
    "\n",
    "- reshape()\n",
    "\n",
    "- 2x3 행렬 --> 3x2 행렬\n",
    "\n",
    "- 원소의 개수가 반드시 일치해야 함\n",
    "\n",
    "<br/>\n",
    "\n",
    "M = np.array(\\[\\[1, 2, 3\\], \\[4, 5, 6\\]\\]).T\n",
    "\n",
    "- 행렬에 대한 전체 연산을 위해 transpose 함수 제공"
   ]
  },
  {
   "cell_type": "code",
   "execution_count": 7,
   "metadata": {},
   "outputs": [],
   "source": [
    "import numpy as np"
   ]
  },
  {
   "cell_type": "code",
   "execution_count": 9,
   "metadata": {},
   "outputs": [],
   "source": [
    "# 3x3 행렬\n",
    "a = np.array([[1, 2, 3], [4, 5, 6], [7, 8, 9]])"
   ]
  },
  {
   "cell_type": "code",
   "execution_count": 13,
   "metadata": {},
   "outputs": [
    {
     "output_type": "execute_result",
     "data": {
      "text/plain": "(5, array([1, 2, 3]), array([2, 5, 8]), array([5, 6]))"
     },
     "metadata": {},
     "execution_count": 13
    }
   ],
   "source": [
    "# 인덱싱과 슬라이싱을 통해 데이터의 특정 위치 원소 접근\n",
    "# 쉼표(,)로 분리된 indexing으로 특정 위치의 값을 읽을 수 있다. \n",
    "a[1, 1], a[0], a[:, 1], a[1, 1:3]"
   ]
  },
  {
   "cell_type": "markdown",
   "metadata": {},
   "source": [
    "### 직접 연산 지원\n",
    "\n",
    "- 2개 벡터나 행렬에 대한 손쉬운 사칙연산"
   ]
  },
  {
   "cell_type": "code",
   "execution_count": 14,
   "metadata": {},
   "outputs": [
    {
     "output_type": "execute_result",
     "data": {
      "text/plain": "array([ 4,  8, 11, 14, 18])"
     },
     "metadata": {},
     "execution_count": 14
    }
   ],
   "source": [
    "# 플러스(+) 연산자를 사용한 두 벡터의 합 계산\n",
    "a = np.array([1, 3, 5, 7, 9])\n",
    "b = np.array([3, 5, 6, 7, 9])\n",
    "c = a + b\n",
    "c"
   ]
  },
  {
   "cell_type": "code",
   "execution_count": 15,
   "metadata": {},
   "outputs": [
    {
     "output_type": "execute_result",
     "data": {
      "text/plain": "array([[0, 1, 2],\n       [3, 2, 5]])"
     },
     "metadata": {},
     "execution_count": 15
    }
   ],
   "source": [
    "# 두 행렬의 크기(2x3)가 같기 때문에 + 연산자를 사용해 합 계산\n",
    "a = np.array([1, 2, 3, 3, 2, 5]).reshape(2, 3)\n",
    "b = np.array([[-1, -1, -1], [0, 0, 0]])\n",
    "C = a + b\n",
    "C"
   ]
  },
  {
   "cell_type": "markdown",
   "metadata": {},
   "source": [
    "- 연산 시 두 행렬의 데이터 타입은 큰 쪽으로 맞춰지고 두 행렬의 크기가 다른 경우 오류 발생"
   ]
  },
  {
   "cell_type": "markdown",
   "metadata": {},
   "source": [
    "# 2-4. Numpy 주요 기능 3"
   ]
  },
  {
   "cell_type": "markdown",
   "metadata": {},
   "source": [
    "### 선형 대수 함수 지원"
   ]
  },
  {
   "cell_type": "code",
   "execution_count": 21,
   "metadata": {},
   "outputs": [
    {
     "output_type": "execute_result",
     "data": {
      "text/plain": "((3, 2), (2, 2))"
     },
     "metadata": {},
     "execution_count": 21
    }
   ],
   "source": [
    "x = np.array([[1, 2], [4, 5], [6, 7]])\n",
    "y = np.array([[1, 2], [4, 5]])\n",
    "\n",
    "x.shape, y.shape"
   ]
  },
  {
   "cell_type": "code",
   "execution_count": 18,
   "metadata": {},
   "outputs": [
    {
     "output_type": "execute_result",
     "data": {
      "text/plain": "array([[ 9, 12],\n       [24, 33],\n       [34, 47]])"
     },
     "metadata": {},
     "execution_count": 18
    }
   ],
   "source": [
    "# matmul() 함수를 이용해 두 행렬간 곱셈\n",
    "np.matmul(x, y)"
   ]
  },
  {
   "cell_type": "markdown",
   "metadata": {},
   "source": [
    "- x와 y에 대한 행렬곱의 결과는 3x2 행렬\n",
    "\n",
    "- 곱하기(x) 연산자는 2개 행렬 원소 간 곱셈\n",
    "\n",
    "- matmul() 함수는 행렬의 곱"
   ]
  },
  {
   "cell_type": "code",
   "execution_count": 22,
   "metadata": {},
   "outputs": [
    {
     "output_type": "execute_result",
     "data": {
      "text/plain": "array([[ 0.08333333, -0.16666667,  0.16666667],\n       [ 0.41666667,  0.16666667, -0.16666667],\n       [-0.25      ,  0.5       ,  0.5       ]])"
     },
     "metadata": {},
     "execution_count": 22
    }
   ],
   "source": [
    "# 역행렬을 계산하는 inv() 함수\n",
    "a = np.array([[2, 2, 0], [-2, 1, 1], [3, 0, 1]])\n",
    "np.linalg.inv(a)"
   ]
  },
  {
   "cell_type": "markdown",
   "metadata": {},
   "source": [
    "- inv() 함수는 행과 열의 크기가 같은 정방행렬에만 적용 가능"
   ]
  },
  {
   "cell_type": "code",
   "execution_count": 25,
   "metadata": {},
   "outputs": [
    {
     "output_type": "execute_result",
     "data": {
      "text/plain": "array([[ 3.2,  6.4, -5. ],\n       [-1.5, -3. ,  2.5]])"
     },
     "metadata": {},
     "execution_count": 25
    }
   ],
   "source": [
    "# 의사역행렬 공식을 활용한 임의의 크기에 대한 역행렬 계산\n",
    "A = np.array([[1, 2], [2, 4], [3, 6.4]])\n",
    "\n",
    "np.matmul(np.linalg.inv(np.matmul(A.T, A)), A.T)"
   ]
  },
  {
   "cell_type": "markdown",
   "metadata": {},
   "source": [
    "![의사역행렬 공식](./img/의사역행렬.PNG)"
   ]
  },
  {
   "cell_type": "markdown",
   "metadata": {},
   "source": [
    "<br/>\n",
    "\n",
    "<br/>\n",
    "\n",
    "### Reference\n",
    "\n",
    "- https://www.youtube.com/watch?v=-9Er0m0qUOI\n",
    "\n",
    "- https://www.youtube.com/watch?v=pNuiCE0BrTM\n",
    "\n",
    "- https://www.youtube.com/watch?v=DjBubVrSQCM"
   ]
  }
 ],
 "metadata": {
  "language_info": {
   "codemirror_mode": {
    "name": "ipython",
    "version": 3
   },
   "file_extension": ".py",
   "mimetype": "text/x-python",
   "name": "python",
   "nbconvert_exporter": "python",
   "pygments_lexer": "ipython3",
   "version": "3.7.6-final"
  },
  "orig_nbformat": 2,
  "kernelspec": {
   "name": "python37664bitd6c49ce9a0fb4da9a60aa5dde01a050b",
   "display_name": "Python 3.7.6 64-bit"
  }
 },
 "nbformat": 4,
 "nbformat_minor": 2
}