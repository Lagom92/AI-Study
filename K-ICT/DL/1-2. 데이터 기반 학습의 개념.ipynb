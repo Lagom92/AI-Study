{
 "cells": [
  {
   "cell_type": "markdown",
   "metadata": {},
   "source": [
    "# 1-2. 데이터 기반 학습의 개념"
   ]
  },
  {
   "cell_type": "markdown",
   "metadata": {},
   "source": [
    "### 가위바위보 게임을 통한 학습 이해하기\n",
    "\n",
    "0: 가위\n",
    "\n",
    "1: 바위\n",
    "\n",
    "2: 보\n",
    "\n",
    "my=1, computer=2\n",
    "\n",
    "9가지의 경우의 수 발생함"
   ]
  },
  {
   "cell_type": "markdown",
   "metadata": {},
   "source": [
    "- 모든 경우의 수를 기억하고 있으면 상황에 맞는 지식을 쉽게 추론할 수 있음\n",
    "\n",
    "- 이 경우 학습은 모든 경우의 수를 머릿속에 저장하는 작업"
   ]
  },
  {
   "cell_type": "markdown",
   "metadata": {},
   "source": [
    "- 빼기를 이용하여 가위바위보를 이해\n",
    "\n",
    "두 값을 빼서\n",
    "\n",
    "비긴 경우: 0\n",
    "\n",
    "진 경우: 0\n",
    "\n",
    "이긴 경우 -2, 1\n",
    "\n",
    "- 판단 공식 = (my - conputer +3)%3\n",
    "    \n",
    "    - 0: 비김\n",
    "\n",
    "    - 1: 이김\n",
    "\n",
    "    - 2: 짐"
   ]
  },
  {
   "cell_type": "markdown",
   "metadata": {},
   "source": [
    "**학습은 계산 가능한 수학 공식을 만드는 것**\n",
    "\n",
    "- 기계 학습 및 딥러닝에서의 학습은 학습 데이터를 가장 잘 설명할 수 있는 모델을 만들어가는 과정"
   ]
  },
  {
   "cell_type": "markdown",
   "metadata": {},
   "source": [
    "### 데이터 분석\n",
    "\n",
    "- 평균\n",
    "\n",
    "- 정규분포\n",
    "\n",
    "- 분산: 자료의 산포도\n",
    "\n",
    "    - 분산값으로 예측의 신뢰성을 검증할 수 있음\n",
    "\n",
    "- 표준편차"
   ]
  },
  {
   "cell_type": "markdown",
   "metadata": {},
   "source": [
    "### 학습모델 검증\n",
    "\n",
    "- 가설 검증\n",
    "\n",
    "- 그래프를 통한 시각화"
   ]
  },
  {
   "cell_type": "markdown",
   "metadata": {},
   "source": [
    "### 통계 데이터 기반학습\n",
    "\n",
    "- 학습 데이터\n",
    "\n",
    "- 학습\n",
    "\n",
    "    - 평균과 표준편차 계산\n",
    "\n",
    "- 학습 후 할 수 있는 것\n",
    "\n",
    "    - 평균을 중심으로 값 예측\n",
    "\n",
    "    - 분포간 비교\n",
    "\n",
    "    - 표준편차를 가지고 신뢰성 판단\n",
    "\n",
    "    - 정상/비정상 데이터 판단"
   ]
  },
  {
   "cell_type": "markdown",
   "metadata": {},
   "source": [
    "<br/>\n",
    "\n",
    "<br/>\n",
    "\n",
    "### Reference\n",
    "\n",
    "- https://www.youtube.com/watch?v=E-mZ4565770"
   ]
  }
 ],
 "metadata": {
  "language_info": {
   "codemirror_mode": {
    "name": "ipython",
    "version": 3
   },
   "file_extension": ".py",
   "mimetype": "text/x-python",
   "name": "python",
   "nbconvert_exporter": "python",
   "pygments_lexer": "ipython3",
   "version": 3
  },
  "orig_nbformat": 2
 },
 "nbformat": 4,
 "nbformat_minor": 2
}