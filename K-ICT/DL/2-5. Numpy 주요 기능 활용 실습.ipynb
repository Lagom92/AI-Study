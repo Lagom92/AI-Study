{
 "cells": [
  {
   "cell_type": "markdown",
   "metadata": {},
   "source": [
    "# 2-5. Numpy 주요 기능 활용 실습"
   ]
  },
  {
   "cell_type": "markdown",
   "metadata": {},
   "source": [
    "## Numpy 활용\n",
    "\n",
    "### 실습 내용\n",
    "\n",
    "- Numpy 배열 생성, 저장, 로딩\n",
    "\n",
    "- Numpy 기본 사칙 연산\n",
    "\n",
    "- Numpy 행렬 연산\n",
    "\n",
    "- Numpy 브로드캐스팅 연산\n",
    "\n",
    "- 실제 데이터를 이용한 학습과 예측"
   ]
  },
  {
   "cell_type": "code",
   "execution_count": 1,
   "metadata": {},
   "outputs": [],
   "source": [
    "import numpy as np\n",
    "import numpy.linalg as lin\n",
    "import time"
   ]
  },
  {
   "cell_type": "markdown",
   "metadata": {},
   "source": [
    "### 1. Numpy array 생성과 저장\n",
    "\n",
    "#### 1-1. Numpy array 생성"
   ]
  },
  {
   "cell_type": "code",
   "execution_count": 13,
   "metadata": {
    "tags": []
   },
   "outputs": [
    {
     "output_type": "stream",
     "name": "stdout",
     "text": "2.0\n"
    }
   ],
   "source": [
    "# array() 함수를 사용한 배열 객체 a 생성\n",
    "a = np.array(2.0)\n",
    "print(a)"
   ]
  },
  {
   "cell_type": "code",
   "execution_count": 14,
   "metadata": {
    "tags": []
   },
   "outputs": [
    {
     "output_type": "stream",
     "name": "stdout",
     "text": "<class 'numpy.ndarray'>\n"
    }
   ],
   "source": [
    "print(type(a))"
   ]
  },
  {
   "cell_type": "code",
   "execution_count": 15,
   "metadata": {
    "tags": []
   },
   "outputs": [
    {
     "output_type": "stream",
     "name": "stdout",
     "text": "()\n"
    }
   ],
   "source": [
    "# shape으로 크기 출력\n",
    "print(a.shape)"
   ]
  },
  {
   "cell_type": "code",
   "execution_count": 7,
   "metadata": {
    "tags": []
   },
   "outputs": [
    {
     "output_type": "stream",
     "name": "stdout",
     "text": "차원 0\n"
    }
   ],
   "source": [
    "if a.shape == ():\n",
    "    print(\"차원 0\")"
   ]
  },
  {
   "cell_type": "code",
   "execution_count": 8,
   "metadata": {},
   "outputs": [],
   "source": [
    "b = np.array([2.0])"
   ]
  },
  {
   "cell_type": "code",
   "execution_count": 17,
   "metadata": {
    "tags": []
   },
   "outputs": [
    {
     "output_type": "stream",
     "name": "stdout",
     "text": "[2.] <class 'numpy.ndarray'>\n"
    }
   ],
   "source": [
    "print(b, type(b))"
   ]
  },
  {
   "cell_type": "code",
   "execution_count": 19,
   "metadata": {
    "tags": []
   },
   "outputs": [
    {
     "output_type": "stream",
     "name": "stdout",
     "text": "(1,) length: 1\n"
    }
   ],
   "source": [
    "print(b.shape, f\"length: {b.shape[0]}\")"
   ]
  },
  {
   "cell_type": "code",
   "execution_count": 20,
   "metadata": {},
   "outputs": [],
   "source": [
    "# 3개의 원소로 이루어진 객체 c 생성\n",
    "c = np.array([2, 3, 4])"
   ]
  },
  {
   "cell_type": "code",
   "execution_count": 21,
   "metadata": {
    "tags": []
   },
   "outputs": [
    {
     "output_type": "stream",
     "name": "stdout",
     "text": "[2 3 4] (3,) length: 3\n"
    }
   ],
   "source": [
    "print(c, c.shape, f\"length: {c.shape[0]}\")"
   ]
  },
  {
   "cell_type": "code",
   "execution_count": 27,
   "metadata": {
    "tags": []
   },
   "outputs": [
    {
     "output_type": "stream",
     "name": "stdout",
     "text": "[[1 2]\n [3 4]\n [5 6]]\n(3, 2)\n행의 크기: 3\n열의 크기: 2\n"
    }
   ],
   "source": [
    "# 3x2 행렬 m 생성\n",
    "m = np.array([[1, 2], [3, 4], [5, 6]])\n",
    "\n",
    "print(m)\n",
    "print(m.shape)\n",
    "print(f\"행의 크기: {m.shape[0]}\")\n",
    "print(f\"열의 크기: {m.shape[1]}\")"
   ]
  },
  {
   "cell_type": "code",
   "execution_count": 29,
   "metadata": {
    "tags": []
   },
   "outputs": [
    {
     "output_type": "stream",
     "name": "stdout",
     "text": "[[1 2 3]]\n(1, 3)\n"
    }
   ],
   "source": [
    "# 1x3 행벡터 m 생성\n",
    "m = np.array([[1, 2, 3]])\n",
    "\n",
    "print(m)\n",
    "print(m.shape)"
   ]
  },
  {
   "cell_type": "code",
   "execution_count": 30,
   "metadata": {
    "tags": []
   },
   "outputs": [
    {
     "output_type": "stream",
     "name": "stdout",
     "text": "[[1]\n [2]\n [3]]\n(3, 1)\n"
    }
   ],
   "source": [
    "# 3x1 열벡터 m 생성\n",
    "m = np.array([[1], [2], [3]])\n",
    "\n",
    "print(m)\n",
    "print(m.shape)"
   ]
  },
  {
   "cell_type": "markdown",
   "metadata": {},
   "source": [
    "**Numpy array는 모든 원소의 타입이 동일 하다고 가정**\n",
    "\n"
   ]
  },
  {
   "cell_type": "code",
   "execution_count": 39,
   "metadata": {
    "tags": []
   },
   "outputs": [
    {
     "output_type": "stream",
     "name": "stdout",
     "text": "<class 'list'>\n<class 'int'>\n<class 'float'>\nint32\nfloat64\n<class 'numpy.float64'>\n<class 'numpy.float64'>\n"
    }
   ],
   "source": [
    "a = [1, 2.0]        # python list(정수, 실수)\n",
    "b = np.array([1, 2, 3])     # numpy array(정수)\n",
    "c = np.array([1, 2, 3.0])   # numpy array(정수, 실수)\n",
    "\n",
    "# list는 각각의 type을 유지함\n",
    "print(type(a))\n",
    "print(type(a[0]))\n",
    "print(type(a[1]))\n",
    "\n",
    "# dtype으로 데이터 타입 확인\n",
    "print(b.dtype)\n",
    "print(c.dtype)\n",
    "\n",
    "print(type(c[0]))\n",
    "print(type(c[2]))"
   ]
  },
  {
   "cell_type": "markdown",
   "metadata": {},
   "source": [
    "- numpy에서는 list 객체 타입을 통해 자동으로 형 결정\n",
    "\n",
    "- numpy에서는 고속 수치 계산을 위해 단일 데이터 타입을 사용"
   ]
  },
  {
   "cell_type": "code",
   "execution_count": 40,
   "metadata": {
    "tags": []
   },
   "outputs": [
    {
     "output_type": "stream",
     "name": "stdout",
     "text": "[[1, 2], [3, 4, 5]]\n[list([1, 2]) list([3, 4, 5])]\n"
    }
   ],
   "source": [
    "a = [[1, 2], [3, 4, 5]]\n",
    "b = np.array([[1, 2], [3, 4, 5]])\n",
    "\n",
    "print(a)\n",
    "print(b)"
   ]
  },
  {
   "cell_type": "markdown",
   "metadata": {},
   "source": [
    "--ing\n",
    "\n",
    "8:40"
   ]
  }
 ],
 "metadata": {
  "language_info": {
   "codemirror_mode": {
    "name": "ipython",
    "version": 3
   },
   "file_extension": ".py",
   "mimetype": "text/x-python",
   "name": "python",
   "nbconvert_exporter": "python",
   "pygments_lexer": "ipython3",
   "version": "3.7.6-final"
  },
  "orig_nbformat": 2,
  "kernelspec": {
   "name": "python37664bitd6c49ce9a0fb4da9a60aa5dde01a050b",
   "display_name": "Python 3.7.6 64-bit"
  }
 },
 "nbformat": 4,
 "nbformat_minor": 2
}