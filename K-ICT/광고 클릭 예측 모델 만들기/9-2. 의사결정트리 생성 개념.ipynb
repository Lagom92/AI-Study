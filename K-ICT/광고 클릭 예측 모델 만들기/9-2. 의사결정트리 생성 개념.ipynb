{
 "cells": [
  {
   "cell_type": "markdown",
   "metadata": {},
   "source": [
    "# 온라인 광고 클릭 예측 모델 만들기-1"
   ]
  },
  {
   "cell_type": "markdown",
   "metadata": {},
   "source": [
    "# 9-2. 의사결정트리 생성 개념"
   ]
  },
  {
   "cell_type": "markdown",
   "metadata": {},
   "source": [
    "## 의사결정 트리의 특징"
   ]
  },
  {
   "cell_type": "markdown",
   "metadata": {},
   "source": [
    "### 의사결정 트리의 생성\n",
    "\n",
    "- 데이터를 분할하기 위해 가장 중요한 특징이 무엇인지 선택하는 로컬 최적화 방법을 계속 적용하는 탐욕적 방식으로 트리를 생성함\n",
    "\n",
    "- 의사결정 트리는 학습 샘플을 서브 셋으로 분할하면서 생성되면서, 분할의 과정은 각 서브 셋에 대해 재귀 형태로 진행됨\n",
    "\n",
    "- 각 노드에서의 분할은 특징 값을 기반으로 조건 검사를 통해 진행되며, 서브 셋이 동일한 클래스 레이블을 가지는 경우나 분할을 통한 클래스 분류가 더 이상 의미가 없을 경우 분할 작업을 마침"
   ]
  },
  {
   "cell_type": "markdown",
   "metadata": {},
   "source": [
    "- 루트 노드에서 가장 중요한 특징이 무엇인지 알아야함"
   ]
  },
  {
   "cell_type": "markdown",
   "metadata": {},
   "source": [
    "<br/>\n",
    "\n",
    "------------------\n",
    "\n",
    "### Reference\n",
    "\n",
    "- https://www.youtube.com/watch?v=tojwOLOblgo"
   ]
  }
 ],
 "metadata": {
  "language_info": {
   "codemirror_mode": {
    "name": "ipython",
    "version": 3
   },
   "file_extension": ".py",
   "mimetype": "text/x-python",
   "name": "python",
   "nbconvert_exporter": "python",
   "pygments_lexer": "ipython3",
   "version": 3
  },
  "orig_nbformat": 2
 },
 "nbformat": 4,
 "nbformat_minor": 2
}