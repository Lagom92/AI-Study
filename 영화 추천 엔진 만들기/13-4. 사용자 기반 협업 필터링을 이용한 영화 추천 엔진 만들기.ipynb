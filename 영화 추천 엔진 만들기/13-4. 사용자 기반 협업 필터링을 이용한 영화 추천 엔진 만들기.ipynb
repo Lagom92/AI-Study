{
 "cells": [
  {
   "cell_type": "markdown",
   "metadata": {},
   "source": [
    "# 13.영화 추천 엔진 만들기"
   ]
  },
  {
   "cell_type": "code",
   "execution_count": 8,
   "metadata": {},
   "outputs": [
    {
     "output_type": "execute_result",
     "data": {
      "text/plain": "((631, 1682), (312, 1682))"
     },
     "metadata": {},
     "execution_count": 8
    }
   ],
   "source": [
    "# MovieLens data 가져오기\n",
    "import pandas as pd\n",
    "import numpy as np\n",
    "from sklearn.model_selection import train_test_split\n",
    "\n",
    "df = pd.read_csv(\"source/u.data\", sep=\"\\t\", header=None)\n",
    "df.columns = [\"user_id\", \"item_id\", \"rating\", \"timestamp\"]\n",
    "\n",
    "n_users = df.user_id.unique().shape[0]\n",
    "n_items = df.item_id.unique().shape[0]\n",
    "ratings = np.zeros((n_users, n_items))\n",
    "\n",
    "for row in df.itertuples():\n",
    "    ratings[row[1]-1, row[2]-1] = row[3]\n",
    "\n",
    "ratings_train, ratings_test = train_test_split(ratings, test_size=0.33, random_state=42)\n",
    "ratings_train.shape, ratings_test.shape"
   ]
  },
  {
   "cell_type": "markdown",
   "metadata": {},
   "source": [
    "### 사용자 간 유사도 행렬 생성"
   ]
  },
  {
   "cell_type": "code",
   "execution_count": 9,
   "metadata": {},
   "outputs": [
    {
     "output_type": "execute_result",
     "data": {
      "text/plain": "array([[0.        , 0.63524236, 0.55753769, ..., 0.97989359, 0.66892071,\n        0.74361482],\n       [0.63524236, 0.        , 0.57364745, ..., 0.93305581, 0.72660686,\n        0.77662732],\n       [0.55753769, 0.57364745, 0.        , ..., 0.93324244, 0.74575627,\n        0.77679874],\n       ...,\n       [0.97989359, 0.93305581, 0.93324244, ..., 0.        , 0.95146572,\n        0.94857492],\n       [0.66892071, 0.72660686, 0.74575627, ..., 0.95146572, 0.        ,\n        0.8801978 ],\n       [0.74361482, 0.77662732, 0.77679874, ..., 0.94857492, 0.8801978 ,\n        0.        ]])"
     },
     "metadata": {},
     "execution_count": 9
    }
   ],
   "source": [
    "# 코사인 유사도\n",
    "from sklearn.metrics.pairwise import cosine_distances\n",
    "\n",
    "cosine_distances(ratings_train)"
   ]
  },
  {
   "cell_type": "markdown",
   "metadata": {},
   "source": [
    "- 코사인 유사도: 내적 공간의 두 벡터의 사이각에 대한 코사인을 측정해 유사도를 나타내는 척도"
   ]
  },
  {
   "cell_type": "markdown",
   "metadata": {},
   "source": [
    "### 코사인 유사도\n",
    "\n",
    "- 내적 공간의 두 벡터의 사이각에 대한 코사인을 측정해 유사도를 나타내는 척도\n",
    "\n",
    "- cos(0) == 1, cos(θ) < 1"
   ]
  },
  {
   "cell_type": "code",
   "execution_count": 11,
   "metadata": {},
   "outputs": [
    {
     "output_type": "execute_result",
     "data": {
      "text/plain": "array([[1.        , 0.36475764, 0.44246231, ..., 0.02010641, 0.33107929,\n        0.25638518],\n       [0.36475764, 1.        , 0.42635255, ..., 0.06694419, 0.27339314,\n        0.22337268],\n       [0.44246231, 0.42635255, 1.        , ..., 0.06675756, 0.25424373,\n        0.22320126],\n       ...,\n       [0.02010641, 0.06694419, 0.06675756, ..., 1.        , 0.04853428,\n        0.05142508],\n       [0.33107929, 0.27339314, 0.25424373, ..., 0.04853428, 1.        ,\n        0.1198022 ],\n       [0.25638518, 0.22337268, 0.22320126, ..., 0.05142508, 0.1198022 ,\n        1.        ]])"
     },
     "metadata": {},
     "execution_count": 11
    }
   ],
   "source": [
    "distances = 1 - cosine_distances(ratings_train)\n",
    "distances"
   ]
  },
  {
   "cell_type": "markdown",
   "metadata": {},
   "source": [
    "- 사용자 간의 유사도를 나타냄\n",
    "\n",
    "- 자기 자신은 1임\n",
    "\n",
    "- 정방 행렬"
   ]
  },
  {
   "cell_type": "markdown",
   "metadata": {},
   "source": [
    "### 평가 예측 및 모델의 성능 측정"
   ]
  },
  {
   "cell_type": "code",
   "execution_count": 13,
   "metadata": {},
   "outputs": [],
   "source": [
    "user_pred = distances.dot(ratings_train) / np.array([np.abs(distances).sum(axis=1)]).T"
   ]
  },
  {
   "cell_type": "markdown",
   "metadata": {},
   "source": [
    "- np.dot()\n",
    "    - 행렬 곱\n",
    "    - 행의 크기가 같아야 연산이 가능함\n",
    "\n",
    "- np.abs()\n",
    "    - 음수 제거\n",
    "\n",
    "- .T\n",
    "    - 전치 행렬\n",
    "    - 크기를 맞춰주기 위해서\n",
    "\n"
   ]
  },
  {
   "cell_type": "code",
   "execution_count": 19,
   "metadata": {},
   "outputs": [],
   "source": [
    "from sklearn.metrics import mean_squared_error\n",
    "\n",
    "def get_mse(pred, actual):\n",
    "    pred = pred[actual.nonzero()].flatten()\n",
    "    actual = actual[actual.nonzero()].flatten()\n",
    "\n",
    "    return mean_squared_error(pred, actual)"
   ]
  },
  {
   "cell_type": "markdown",
   "metadata": {},
   "source": [
    "- nonzero()\n",
    "    - 0이 아닌 값\n",
    "\n",
    "- flatten()\n",
    "    - 1차원으로 변경"
   ]
  },
  {
   "cell_type": "code",
   "execution_count": 16,
   "metadata": {},
   "outputs": [
    {
     "output_type": "execute_result",
     "data": {
      "text/plain": "2.8075245308903365"
     },
     "metadata": {},
     "execution_count": 16
    }
   ],
   "source": [
    "# 훈련 data RMSE\n",
    "np.sqrt(get_mse(user_pred, ratings_train))"
   ]
  },
  {
   "cell_type": "code",
   "execution_count": 17,
   "metadata": {},
   "outputs": [
    {
     "output_type": "execute_result",
     "data": {
      "text/plain": "2.9870546415652575"
     },
     "metadata": {},
     "execution_count": 17
    }
   ],
   "source": [
    "# 테스트 data RMSE\n",
    "np.sqrt(get_mse(user_pred, ratings_test))"
   ]
  },
  {
   "cell_type": "markdown",
   "metadata": {},
   "source": [
    "단점\n",
    "\n",
    "- 이 방법은 모든 사용자와 비교함\n",
    "\n",
    "- 비슷한 사용자를 찾는거에 시간이 많이 걸린다."
   ]
  },
  {
   "cell_type": "markdown",
   "metadata": {},
   "source": [
    "### 가장 비슷한 n명을 찾는 비지도 방식의 이웃 검색"
   ]
  },
  {
   "cell_type": "code",
   "execution_count": 20,
   "metadata": {},
   "outputs": [],
   "source": [
    "from sklearn.neighbors import NearestNeighbors\n",
    "\n",
    "k = 5\n",
    "neigh = NearestNeighbors(n_neighbors=k, metric=\"cosine\")"
   ]
  },
  {
   "cell_type": "code",
   "execution_count": 21,
   "metadata": {},
   "outputs": [
    {
     "output_type": "execute_result",
     "data": {
      "text/plain": "NearestNeighbors(algorithm='auto', leaf_size=30, metric='cosine',\n                 metric_params=None, n_jobs=None, n_neighbors=5, p=2,\n                 radius=1.0)"
     },
     "metadata": {},
     "execution_count": 21
    }
   ],
   "source": [
    "neigh.fit(ratings_train)"
   ]
  },
  {
   "cell_type": "code",
   "execution_count": 22,
   "metadata": {},
   "outputs": [],
   "source": [
    "top_k_distances, top_k_users = neigh.kneighbors(ratings_train, return_distance=True)"
   ]
  },
  {
   "cell_type": "code",
   "execution_count": 25,
   "metadata": {},
   "outputs": [
    {
     "output_type": "execute_result",
     "data": {
      "text/plain": "((631, 5), (631, 5))"
     },
     "metadata": {},
     "execution_count": 25
    }
   ],
   "source": [
    "top_k_distances.shape, top_k_users.shape"
   ]
  },
  {
   "cell_type": "code",
   "execution_count": 26,
   "metadata": {},
   "outputs": [
    {
     "output_type": "execute_result",
     "data": {
      "text/plain": "array([[  0, 589, 155,  33, 364],\n       [  1, 483, 339, 172, 188],\n       [  2, 382, 560, 350, 155],\n       ...,\n       [628, 258, 242, 229, 494],\n       [629, 378, 155, 589, 591],\n       [630, 495, 201, 417, 603]], dtype=int64)"
     },
     "metadata": {},
     "execution_count": 26
    }
   ],
   "source": [
    "top_k_users"
   ]
  },
  {
   "cell_type": "code",
   "execution_count": 27,
   "metadata": {},
   "outputs": [
    {
     "output_type": "execute_result",
     "data": {
      "text/plain": "array([[0.        , 0.38230161, 0.39990633, 0.40834169, 0.4100445 ],\n       [0.        , 0.4625691 , 0.50677921, 0.50811827, 0.50882566],\n       [0.        , 0.46538829, 0.48267976, 0.49176259, 0.49265099],\n       ...,\n       [0.        , 0.5764934 , 0.59340849, 0.64699606, 0.66472075],\n       [0.        , 0.60496802, 0.6115226 , 0.62054374, 0.6229481 ],\n       [0.        , 0.56320216, 0.60221688, 0.60314589, 0.6400121 ]])"
     },
     "metadata": {},
     "execution_count": 27
    }
   ],
   "source": [
    "top_k_distances"
   ]
  },
  {
   "cell_type": "markdown",
   "metadata": {},
   "source": [
    "### 선택된 n명의 사용자들의 평가 가중치 합을 사용한 예측 및 모델의 성능 측정"
   ]
  },
  {
   "cell_type": "code",
   "execution_count": 30,
   "metadata": {},
   "outputs": [],
   "source": [
    "user_pred_k = np.zeros(ratings_train.shape)"
   ]
  },
  {
   "cell_type": "code",
   "execution_count": 31,
   "metadata": {},
   "outputs": [],
   "source": [
    "for i in range(ratings_train.shape[0]):\n",
    "    user_pred_k[i, :] = top_k_distances[i].T.dot(ratings_train[top_k_users][i]) / np.array([np.abs(top_k_distances[i].T).sum(axis=0)]).T"
   ]
  },
  {
   "cell_type": "code",
   "execution_count": 33,
   "metadata": {},
   "outputs": [
    {
     "output_type": "execute_result",
     "data": {
      "text/plain": "(631, 1682)"
     },
     "metadata": {},
     "execution_count": 33
    }
   ],
   "source": [
    "user_pred_k.shape"
   ]
  },
  {
   "cell_type": "code",
   "execution_count": 34,
   "metadata": {},
   "outputs": [
    {
     "output_type": "execute_result",
     "data": {
      "text/plain": "array([[4.25618269, 2.49082621, 0.71654943, ..., 0.        , 0.        ,\n        0.        ],\n       [3.74418756, 0.        , 2.48873124, ..., 0.        , 0.        ,\n        0.        ],\n       [3.22293592, 2.98635211, 2.47648118, ..., 0.        , 0.        ,\n        0.        ],\n       ...,\n       [1.07143091, 0.        , 0.        , ..., 0.        , 0.        ,\n        0.        ],\n       [3.73945823, 2.48622549, 1.76969702, ..., 0.        , 0.        ,\n        0.        ],\n       [1.95357502, 0.        , 0.        , ..., 0.        , 0.        ,\n        0.        ]])"
     },
     "metadata": {},
     "execution_count": 34
    }
   ],
   "source": [
    "# 예측값\n",
    "user_pred_k"
   ]
  },
  {
   "cell_type": "code",
   "execution_count": 35,
   "metadata": {},
   "outputs": [
    {
     "output_type": "execute_result",
     "data": {
      "text/plain": "2.0922014531938316"
     },
     "metadata": {},
     "execution_count": 35
    }
   ],
   "source": [
    "# 훈련 RMSE\n",
    "np.sqrt(get_mse(user_pred_k, ratings_train))"
   ]
  },
  {
   "cell_type": "code",
   "execution_count": 36,
   "metadata": {},
   "outputs": [
    {
     "output_type": "execute_result",
     "data": {
      "text/plain": "3.054698791142718"
     },
     "metadata": {},
     "execution_count": 36
    }
   ],
   "source": [
    "# 테스트 RMSE\n",
    "np.sqrt(get_mse(user_pred_k, ratings_test))"
   ]
  },
  {
   "cell_type": "markdown",
   "metadata": {},
   "source": [
    "<br/>\n",
    "\n",
    "### Reference\n",
    "\n",
    "- https://www.youtube.com/watch?v=Lc5mfCF0mCU"
   ]
  }
 ],
 "metadata": {
  "language_info": {
   "codemirror_mode": {
    "name": "ipython",
    "version": 3
   },
   "file_extension": ".py",
   "mimetype": "text/x-python",
   "name": "python",
   "nbconvert_exporter": "python",
   "pygments_lexer": "ipython3",
   "version": "3.7.6-final"
  },
  "orig_nbformat": 2,
  "kernelspec": {
   "name": "python37664bitd6c49ce9a0fb4da9a60aa5dde01a050b",
   "display_name": "Python 3.7.6 64-bit"
  }
 },
 "nbformat": 4,
 "nbformat_minor": 2
}