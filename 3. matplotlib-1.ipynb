{
 "nbformat": 4,
 "nbformat_minor": 2,
 "metadata": {
  "language_info": {
   "name": "python",
   "codemirror_mode": {
    "name": "ipython",
    "version": 3
   },
   "version": "3.7.6-final"
  },
  "orig_nbformat": 2,
  "file_extension": ".py",
  "mimetype": "text/x-python",
  "name": "python",
  "npconvert_exporter": "python",
  "pygments_lexer": "ipython3",
  "version": 3,
  "kernelspec": {
   "name": "python37664bitd6c49ce9a0fb4da9a60aa5dde01a050b",
   "display_name": "Python 3.7.6 64-bit"
  }
 },
 "cells": [
  {
   "cell_type": "markdown",
   "metadata": {},
   "source": [
    "# Matplotlib"
   ]
  },
  {
   "cell_type": "markdown",
   "metadata": {},
   "source": [
    "# 1. Matplotlib 소개"
   ]
  },
  {
   "cell_type": "markdown",
   "metadata": {},
   "source": [
    "### matplotlib 임포트와 쥬피터노트북에 플롯 삽입 준비"
   ]
  },
  {
   "cell_type": "code",
   "execution_count": 4,
   "metadata": {},
   "outputs": [],
   "source": [
    "import matplotlib as mpl\n",
    "import matplotlib.pyplot as plt\n",
    "\n",
    "%matplotlib inline"
   ]
  },
  {
   "cell_type": "markdown",
   "metadata": {},
   "source": [
    "- plt\n",
    "    - 인터페이스 부분을 가장 많이 담당하는 pyplot 모듈\n",
    "\n",
    "- `%`로 시작하는 매직 명령어\n",
    "\n",
    "- %matplotlib \n",
    "    - notebook\n",
    "        - 노트북 사용 시 interactive한 시각화 도구를 사용\n",
    "    - inline\n",
    "        - inline 사용 시 정적으로 plot를 집어넣는 방식"
   ]
  },
  {
   "cell_type": "markdown",
   "metadata": {},
   "source": [
    "### 플롯 스타일과 설정"
   ]
  },
  {
   "cell_type": "code",
   "execution_count": 7,
   "metadata": {},
   "outputs": [
    {
     "output_type": "execute_result",
     "data": {
      "text/plain": "['bmh',\n 'classic',\n 'dark_background',\n 'fast',\n 'fivethirtyeight',\n 'ggplot',\n 'grayscale',\n 'seaborn-bright',\n 'seaborn-colorblind',\n 'seaborn-dark-palette',\n 'seaborn-dark',\n 'seaborn-darkgrid',\n 'seaborn-deep',\n 'seaborn-muted',\n 'seaborn-notebook',\n 'seaborn-paper',\n 'seaborn-pastel',\n 'seaborn-poster',\n 'seaborn-talk',\n 'seaborn-ticks',\n 'seaborn-white',\n 'seaborn-whitegrid',\n 'seaborn',\n 'Solarize_Light2',\n 'tableau-colorblind10',\n '_classic_test']"
     },
     "metadata": {},
     "execution_count": 7
    }
   ],
   "source": [
    "plt.style.available"
   ]
  },
  {
   "cell_type": "markdown",
   "metadata": {},
   "source": [
    "- pyplot 모듈의 style 정보 내 available 속성의 정보 다수"
   ]
  },
  {
   "cell_type": "code",
   "execution_count": 9,
   "metadata": {},
   "outputs": [],
   "source": [
    "plt.style.use(\"seaborn-whitegrid\")"
   ]
  },
  {
   "cell_type": "markdown",
   "metadata": {},
   "source": [
    "- use를 이용해서 session 전체에 스타일을 결정"
   ]
  },
  {
   "cell_type": "code",
   "execution_count": null,
   "metadata": {},
   "outputs": [],
   "source": []
  }
 ]
}