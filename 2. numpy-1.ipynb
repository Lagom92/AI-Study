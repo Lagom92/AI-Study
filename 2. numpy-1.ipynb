{
 "nbformat": 4,
 "nbformat_minor": 2,
 "metadata": {
  "language_info": {
   "name": "python",
   "codemirror_mode": {
    "name": "ipython",
    "version": 3
   },
   "version": "3.7.6-final"
  },
  "orig_nbformat": 2,
  "file_extension": ".py",
  "mimetype": "text/x-python",
  "name": "python",
  "npconvert_exporter": "python",
  "pygments_lexer": "ipython3",
  "version": 3,
  "kernelspec": {
   "name": "python37664bitd6c49ce9a0fb4da9a60aa5dde01a050b",
   "display_name": "Python 3.7.6 64-bit"
  }
 },
 "cells": [
  {
   "cell_type": "markdown",
   "metadata": {},
   "source": [
    "# 2.1. 파이썬 Numpy 소개"
   ]
  },
  {
   "cell_type": "markdown",
   "metadata": {},
   "source": [
    "- Numerical Python\n",
    "\n",
    "- 파이썬의 내장 타입인 리스트보다 데이터의 저장 및 처리에 있어 효율적인 Numpy 배열을 제공\n",
    "\n",
    "- 선형 대수와 관련된 기능을 제공\n",
    "\n",
    "- 파이썬을 기반으로 한 데이터 과학 도구의 핵심 패키지\n",
    "\n",
    "- 데이터 사이언스 영역의 대부분의 도구(Pandas, Scipy, scikit-learn 등)가 Numpy기반으로 만들어져 있다.\n"
   ]
  },
  {
   "cell_type": "markdown",
   "metadata": {},
   "source": []
  },
  {
   "cell_type": "markdown",
   "metadata": {},
   "source": [
    "# 2.2. Numpy 주요 기능"
   ]
  },
  {
   "cell_type": "markdown",
   "metadata": {},
   "source": [
    "### 배열(ndarray) 객체\n",
    "\n"
   ]
  },
  {
   "cell_type": "code",
   "execution_count": 1,
   "metadata": {},
   "outputs": [],
   "source": [
    "import numpy as np"
   ]
  },
  {
   "cell_type": "markdown",
   "metadata": {},
   "source": [
    "- 별칭으로 np 사용"
   ]
  },
  {
   "cell_type": "code",
   "execution_count": 2,
   "metadata": {},
   "outputs": [
    {
     "output_type": "execute_result",
     "data": {
      "text/plain": "array([1, 4, 2, 5, 3])"
     },
     "metadata": {},
     "execution_count": 2
    }
   ],
   "source": [
    "np.array([1, 4, 2, 5, 3])"
   ]
  },
  {
   "cell_type": "markdown",
   "metadata": {},
   "source": [
    "- array() 함수 사용\n",
    "\n",
    "- array의 경우에는 동질의 데이터를 다룰 수 있는 구조"
   ]
  },
  {
   "cell_type": "code",
   "execution_count": 3,
   "metadata": {},
   "outputs": [
    {
     "output_type": "execute_result",
     "data": {
      "text/plain": "array([1., 4., 2., 5., 3.])"
     },
     "metadata": {},
     "execution_count": 3
    }
   ],
   "source": [
    "np.array([1, 4, 2, 5, 3], dtype=np.float)"
   ]
  },
  {
   "cell_type": "markdown",
   "metadata": {},
   "source": [
    "- 데이터 타입을 지정하여 구성 할 수 있음"
   ]
  },
  {
   "cell_type": "code",
   "execution_count": 4,
   "metadata": {},
   "outputs": [
    {
     "output_type": "execute_result",
     "data": {
      "text/plain": "array([[1, 2, 3],\n       [4, 5, 6],\n       [7, 8, 9]])"
     },
     "metadata": {},
     "execution_count": 4
    }
   ],
   "source": [
    "np.array([range(i, i+3) for i in [1, 4, 7]])"
   ]
  },
  {
   "cell_type": "markdown",
   "metadata": {},
   "source": [
    "- 2차원 구조를 가진 행렬"
   ]
  },
  {
   "cell_type": "markdown",
   "metadata": {},
   "source": [
    "### 초기화가 가능한 여러 가지 함수 제공"
   ]
  },
  {
   "cell_type": "code",
   "execution_count": 5,
   "metadata": {},
   "outputs": [
    {
     "output_type": "execute_result",
     "data": {
      "text/plain": "array([0., 0., 0., 0., 0., 0., 0., 0., 0., 0.])"
     },
     "metadata": {},
     "execution_count": 5
    }
   ],
   "source": [
    "np.zeros(10)"
   ]
  },
  {
   "cell_type": "markdown",
   "metadata": {},
   "source": [
    "- 1차원을 만드는 zeros"
   ]
  },
  {
   "cell_type": "code",
   "execution_count": 6,
   "metadata": {},
   "outputs": [
    {
     "output_type": "execute_result",
     "data": {
      "text/plain": "array([[1., 1., 1., 1., 1.],\n       [1., 1., 1., 1., 1.],\n       [1., 1., 1., 1., 1.]])"
     },
     "metadata": {},
     "execution_count": 6
    }
   ],
   "source": [
    "np.ones((3, 5))"
   ]
  },
  {
   "cell_type": "code",
   "execution_count": 7,
   "metadata": {},
   "outputs": [
    {
     "output_type": "execute_result",
     "data": {
      "text/plain": "array([[5, 5, 5],\n       [5, 5, 5]])"
     },
     "metadata": {},
     "execution_count": 7
    }
   ],
   "source": [
    "np.full((2, 3), 5)"
   ]
  },
  {
   "cell_type": "markdown",
   "metadata": {},
   "source": [
    "- 초기값을 임의로 채움"
   ]
  },
  {
   "cell_type": "code",
   "execution_count": 8,
   "metadata": {},
   "outputs": [
    {
     "output_type": "execute_result",
     "data": {
      "text/plain": "array([0, 2, 4, 6, 8])"
     },
     "metadata": {},
     "execution_count": 8
    }
   ],
   "source": [
    "np.arange(0, 10, 2)"
   ]
  },
  {
   "cell_type": "markdown",
   "metadata": {},
   "source": [
    "- 배열을 생성하는 np.arange()\n",
    "- range()와 사용법이 유사함"
   ]
  },
  {
   "cell_type": "code",
   "execution_count": 9,
   "metadata": {},
   "outputs": [
    {
     "output_type": "execute_result",
     "data": {
      "text/plain": "array([  0,  25,  50,  75, 100])"
     },
     "metadata": {},
     "execution_count": 9
    }
   ],
   "source": [
    "np.linspace(0, 100, 5, dtype=int)"
   ]
  },
  {
   "cell_type": "markdown",
   "metadata": {},
   "source": []
  },
  {
   "cell_type": "markdown",
   "metadata": {},
   "source": [
    "- 균등하게 interval을 구성할 수 있는 linspace\n",
    "- 구간을 나눔"
   ]
  },
  {
   "cell_type": "markdown",
   "metadata": {},
   "source": [
    "### 난수와 관련된 부분\n",
    "테스트용 데이터를 만들때 많이 사용함"
   ]
  },
  {
   "cell_type": "code",
   "execution_count": 10,
   "metadata": {},
   "outputs": [
    {
     "output_type": "execute_result",
     "data": {
      "text/plain": "array([[0.68263978, 0.30693195, 0.67857483],\n       [0.90962027, 0.41252713, 0.47142326],\n       [0.49985856, 0.62840288, 0.91895531]])"
     },
     "metadata": {},
     "execution_count": 10
    }
   ],
   "source": [
    "np.random.random((3, 3))"
   ]
  },
  {
   "cell_type": "markdown",
   "metadata": {},
   "source": [
    "- np.random.random(size))"
   ]
  },
  {
   "cell_type": "code",
   "execution_count": 11,
   "metadata": {},
   "outputs": [
    {
     "output_type": "execute_result",
     "data": {
      "text/plain": "array([[4, 5, 5],\n       [7, 0, 4],\n       [0, 8, 5]])"
     },
     "metadata": {},
     "execution_count": 11
    }
   ],
   "source": [
    "np.random.randint(0, 10, (3, 3))"
   ]
  },
  {
   "cell_type": "markdown",
   "metadata": {},
   "source": [
    "- 범위를 제공하는 randint()"
   ]
  },
  {
   "cell_type": "code",
   "execution_count": 12,
   "metadata": {},
   "outputs": [
    {
     "output_type": "execute_result",
     "data": {
      "text/plain": "array([[ 1.96485345,  0.00980479,  0.30230139],\n       [ 0.58349048, -0.52988671,  0.67556873],\n       [ 0.27349903,  0.81945795,  0.20089474]])"
     },
     "metadata": {},
     "execution_count": 12
    }
   ],
   "source": [
    "np.random.normal(0, 1, (3, 3))"
   ]
  },
  {
   "cell_type": "markdown",
   "metadata": {},
   "source": [
    "- 정규분포를 나타내는 normal\n",
    "\n",
    "- np.random.normal(평균, 표준편차, size)"
   ]
  },
  {
   "cell_type": "markdown",
   "metadata": {},
   "source": [
    "### 랜덤값의 재현성 문제"
   ]
  },
  {
   "cell_type": "code",
   "execution_count": 13,
   "metadata": {},
   "outputs": [
    {
     "output_type": "stream",
     "name": "stdout",
     "text": "arr1: [5 0 3 3 7 9]\nndim: 1, shape: (6,), size: 6, dtype: int32\narr2: \n[[3 5 2]\n [4 7 6]]\nndim: 2, shape: (2, 3), size: 6, dtype: int32\n"
    }
   ],
   "source": [
    "np.random.seed(0)\n",
    "\n",
    "arr1 = np.random.randint(10, size=6)\n",
    "arr2 = np.random.randint(10, size=(2, 3))\n",
    "\n",
    "print(f\"arr1: {arr1}\")\n",
    "print(f\"ndim: {arr1.ndim}, shape: {arr1.shape}, size: {arr1.size}, dtype: {arr1.dtype}\")\n",
    "\n",
    "print(f\"arr2: \\n{arr2}\")\n",
    "print(f\"ndim: {arr2.ndim}, shape: {arr2.shape}, size: {arr2.size}, dtype: {arr2.dtype}\")"
   ]
  },
  {
   "cell_type": "markdown",
   "metadata": {},
   "source": [
    "- seed 함수에 seed값을 주면 재현성 문제가 해결됨\n",
    "\n",
    "- nidm: 차원 정보\n",
    "- shape: 행/열, 원소의 구조 정보\n",
    "\n",
    "- size: 원소의 개수\n",
    "\n",
    "- dtype: data type\n",
    "\n"
   ]
  },
  {
   "cell_type": "markdown",
   "metadata": {},
   "source": [
    "### 객체의 인덱싱\n",
    "\n",
    "- 단일 원소에 접근하는 기법"
   ]
  },
  {
   "cell_type": "code",
   "execution_count": 14,
   "metadata": {},
   "outputs": [
    {
     "output_type": "execute_result",
     "data": {
      "text/plain": "array([5, 0, 3, 3, 7, 9])"
     },
     "metadata": {},
     "execution_count": 14
    }
   ],
   "source": [
    "arr1"
   ]
  },
  {
   "cell_type": "code",
   "execution_count": 15,
   "metadata": {},
   "outputs": [
    {
     "output_type": "execute_result",
     "data": {
      "text/plain": "(5, 9)"
     },
     "metadata": {},
     "execution_count": 15
    }
   ],
   "source": [
    "arr1[0], arr1[5]"
   ]
  },
  {
   "cell_type": "code",
   "execution_count": 16,
   "metadata": {},
   "outputs": [
    {
     "output_type": "execute_result",
     "data": {
      "text/plain": "(5, 9)"
     },
     "metadata": {},
     "execution_count": 16
    }
   ],
   "source": [
    "arr1[-6], arr1[-1]"
   ]
  },
  {
   "cell_type": "markdown",
   "metadata": {},
   "source": [
    "- 음수를 이용하는 인덱싱"
   ]
  },
  {
   "cell_type": "code",
   "execution_count": 17,
   "metadata": {},
   "outputs": [
    {
     "output_type": "execute_result",
     "data": {
      "text/plain": "array([[3, 5, 2],\n       [4, 7, 6]])"
     },
     "metadata": {},
     "execution_count": 17
    }
   ],
   "source": [
    "arr2"
   ]
  },
  {
   "cell_type": "code",
   "execution_count": 18,
   "metadata": {},
   "outputs": [
    {
     "output_type": "execute_result",
     "data": {
      "text/plain": "array([3, 5, 2])"
     },
     "metadata": {},
     "execution_count": 18
    }
   ],
   "source": [
    "arr2[0]"
   ]
  },
  {
   "cell_type": "code",
   "execution_count": 19,
   "metadata": {},
   "outputs": [
    {
     "output_type": "execute_result",
     "data": {
      "text/plain": "(3, 2)"
     },
     "metadata": {},
     "execution_count": 19
    }
   ],
   "source": [
    "arr2[0, 0], arr2[0, 2]"
   ]
  },
  {
   "cell_type": "markdown",
   "metadata": {},
   "source": [
    "- \\[  \\]를 사용\n",
    "- \\[행, 열\\]"
   ]
  },
  {
   "cell_type": "code",
   "execution_count": 20,
   "metadata": {},
   "outputs": [
    {
     "output_type": "execute_result",
     "data": {
      "text/plain": "(4, 6)"
     },
     "metadata": {},
     "execution_count": 20
    }
   ],
   "source": [
    "arr2[-1, -3], arr2[-1, -1]"
   ]
  },
  {
   "cell_type": "code",
   "execution_count": 21,
   "metadata": {},
   "outputs": [
    {
     "output_type": "execute_result",
     "data": {
      "text/plain": "array([[9, 5, 2],\n       [4, 7, 6]])"
     },
     "metadata": {},
     "execution_count": 21
    }
   ],
   "source": [
    "arr2[0, 0] = 9\n",
    "\n",
    "arr2"
   ]
  },
  {
   "cell_type": "markdown",
   "metadata": {},
   "source": [
    "- 인덱스를 이용해서 새로운값 생성"
   ]
  },
  {
   "cell_type": "markdown",
   "metadata": {},
   "source": [
    "### 객체의 슬라이싱\n",
    "\n",
    "- 배열의 부분집합 출력"
   ]
  },
  {
   "cell_type": "code",
   "execution_count": 22,
   "metadata": {},
   "outputs": [
    {
     "output_type": "execute_result",
     "data": {
      "text/plain": "array([0, 1, 2, 3, 4, 5, 6, 7, 8, 9])"
     },
     "metadata": {},
     "execution_count": 22
    }
   ],
   "source": [
    "arr1 = np.arange(10)\n",
    "arr1"
   ]
  },
  {
   "cell_type": "code",
   "execution_count": 23,
   "metadata": {},
   "outputs": [
    {
     "output_type": "execute_result",
     "data": {
      "text/plain": "array([0, 1, 2, 3, 4])"
     },
     "metadata": {},
     "execution_count": 23
    }
   ],
   "source": [
    "arr1[0:5:1]"
   ]
  },
  {
   "cell_type": "markdown",
   "metadata": {},
   "source": [
    "- arr\\[start:end:step\\]\n",
    "- start 생략 가능(처음부터)\n",
    "- step 생략 가능\n"
   ]
  },
  {
   "cell_type": "code",
   "execution_count": 24,
   "metadata": {},
   "outputs": [
    {
     "output_type": "execute_result",
     "data": {
      "text/plain": "array([0, 1, 2, 3, 4])"
     },
     "metadata": {},
     "execution_count": 24
    }
   ],
   "source": [
    "arr1[:5:1]"
   ]
  },
  {
   "cell_type": "code",
   "execution_count": 25,
   "metadata": {},
   "outputs": [
    {
     "output_type": "execute_result",
     "data": {
      "text/plain": "(array([0, 1, 2, 3, 4]), array([0, 1, 2, 3, 4]))"
     },
     "metadata": {},
     "execution_count": 25
    }
   ],
   "source": [
    "arr1[:5:], arr1[:5]"
   ]
  },
  {
   "cell_type": "markdown",
   "metadata": {},
   "source": [
    "- 위 두개는 같은 표현\n",
    "- start의 : 생략 가능"
   ]
  },
  {
   "cell_type": "code",
   "execution_count": 26,
   "metadata": {},
   "outputs": [
    {
     "output_type": "execute_result",
     "data": {
      "text/plain": "(array([2, 4, 6, 8]), array([2, 4, 6, 8]))"
     },
     "metadata": {},
     "execution_count": 26
    }
   ],
   "source": [
    "arr1[2:9:2], arr1[2::2]"
   ]
  },
  {
   "cell_type": "markdown",
   "metadata": {},
   "source": [
    "- end를 생략하면 끝까지를 의미함"
   ]
  },
  {
   "cell_type": "code",
   "execution_count": 27,
   "metadata": {},
   "outputs": [
    {
     "output_type": "execute_result",
     "data": {
      "text/plain": "array([9, 8, 7, 6, 5, 4, 3, 2, 1, 0])"
     },
     "metadata": {},
     "execution_count": 27
    }
   ],
   "source": [
    "arr1[::-1]"
   ]
  },
  {
   "cell_type": "markdown",
   "metadata": {},
   "source": [
    "- step이 -1이면 거꾸로 출력"
   ]
  },
  {
   "cell_type": "code",
   "execution_count": 28,
   "metadata": {},
   "outputs": [
    {
     "output_type": "execute_result",
     "data": {
      "text/plain": "array([9, 8, 7, 6, 5, 4, 3, 2, 1, 0])"
     },
     "metadata": {},
     "execution_count": 28
    }
   ],
   "source": [
    "arr1[-1:-11:-1]"
   ]
  },
  {
   "cell_type": "markdown",
   "metadata": {},
   "source": [
    "- -11은 범위에 포함되지 않으므로 -1 ~ -10까지 출력됨"
   ]
  },
  {
   "cell_type": "code",
   "execution_count": 29,
   "metadata": {},
   "outputs": [
    {
     "output_type": "execute_result",
     "data": {
      "text/plain": "array([5, 4, 3, 2, 1, 0])"
     },
     "metadata": {},
     "execution_count": 29
    }
   ],
   "source": [
    "arr1[5::-1]"
   ]
  },
  {
   "cell_type": "markdown",
   "metadata": {},
   "source": [
    "- 5에서 거꾸로 끝까지 출력"
   ]
  },
  {
   "cell_type": "markdown",
   "metadata": {},
   "source": [
    "#### 형태 변환"
   ]
  },
  {
   "cell_type": "code",
   "execution_count": 30,
   "metadata": {},
   "outputs": [
    {
     "output_type": "stream",
     "name": "stdout",
     "text": "arr2: [ 0  1  2  3  4  5  6  7  8  9 10 11]\n"
    },
    {
     "output_type": "execute_result",
     "data": {
      "text/plain": "array([[ 0,  1,  2,  3],\n       [ 4,  5,  6,  7],\n       [ 8,  9, 10, 11]])"
     },
     "metadata": {},
     "execution_count": 30
    }
   ],
   "source": [
    "arr2 = np.arange(12)\n",
    "print(f\"arr2: {arr2}\")\n",
    "\n",
    "arr2 = np.arange(12).reshape(-1, 4)\n",
    "arr2"
   ]
  },
  {
   "cell_type": "markdown",
   "metadata": {},
   "source": [
    "- reshape(행, 열)\n",
    "- 행/열 변환"
   ]
  },
  {
   "cell_type": "code",
   "execution_count": 31,
   "metadata": {},
   "outputs": [
    {
     "output_type": "execute_result",
     "data": {
      "text/plain": "array([[ 0,  1,  2,  3],\n       [ 4,  5,  6,  7],\n       [ 8,  9, 10, 11]])"
     },
     "metadata": {},
     "execution_count": 31
    }
   ],
   "source": [
    "arr2[:3, :4]"
   ]
  },
  {
   "cell_type": "code",
   "execution_count": 32,
   "metadata": {},
   "outputs": [
    {
     "output_type": "execute_result",
     "data": {
      "text/plain": "array([[ 0,  1,  2,  3],\n       [ 4,  5,  6,  7],\n       [ 8,  9, 10, 11]])"
     },
     "metadata": {},
     "execution_count": 32
    }
   ],
   "source": [
    "arr2[:, :]"
   ]
  },
  {
   "cell_type": "code",
   "execution_count": 33,
   "metadata": {},
   "outputs": [
    {
     "output_type": "execute_result",
     "data": {
      "text/plain": "array([[0, 1, 2],\n       [4, 5, 6]])"
     },
     "metadata": {},
     "execution_count": 33
    }
   ],
   "source": [
    "arr2[:2, :3]"
   ]
  },
  {
   "cell_type": "markdown",
   "metadata": {},
   "source": [
    "- 2x3 구조의 부분집합 추출"
   ]
  },
  {
   "cell_type": "code",
   "execution_count": 34,
   "metadata": {},
   "outputs": [
    {
     "output_type": "execute_result",
     "data": {
      "text/plain": "array([[2, 1, 0],\n       [6, 5, 4]])"
     },
     "metadata": {},
     "execution_count": 34
    }
   ],
   "source": [
    "arr2[:2, 2::-1]"
   ]
  },
  {
   "cell_type": "code",
   "execution_count": 35,
   "metadata": {},
   "outputs": [
    {
     "output_type": "execute_result",
     "data": {
      "text/plain": "array([ 7, 11])"
     },
     "metadata": {},
     "execution_count": 35
    }
   ],
   "source": [
    "arr2[1:, -1]"
   ]
  },
  {
   "cell_type": "markdown",
   "metadata": {},
   "source": [
    "- 행에 대해서는 슬라이싱\n",
    "- 열에 대해서는 인덱싱"
   ]
  },
  {
   "cell_type": "code",
   "execution_count": 36,
   "metadata": {},
   "outputs": [
    {
     "output_type": "execute_result",
     "data": {
      "text/plain": "(array([ 8,  9, 10, 11]), array([ 8,  9, 10, 11]))"
     },
     "metadata": {},
     "execution_count": 36
    }
   ],
   "source": [
    "arr2[-1, :], arr2[-1]"
   ]
  },
  {
   "cell_type": "markdown",
   "metadata": {},
   "source": [
    "### 객체의 연결"
   ]
  },
  {
   "cell_type": "code",
   "execution_count": 37,
   "metadata": {},
   "outputs": [
    {
     "output_type": "stream",
     "name": "stdout",
     "text": "[1, 2, 3]\n[4, 5, 6]\n"
    }
   ],
   "source": [
    "list1 = [1, 2, 3]\n",
    "list2 = [4, 5, 6]\n",
    "\n",
    "print(list1)\n",
    "print(list2)"
   ]
  },
  {
   "cell_type": "code",
   "execution_count": 38,
   "metadata": {},
   "outputs": [
    {
     "output_type": "execute_result",
     "data": {
      "text/plain": "array([1, 2, 3, 4, 5, 6])"
     },
     "metadata": {},
     "execution_count": 38
    }
   ],
   "source": [
    "np.concatenate([list1, list2])"
   ]
  },
  {
   "cell_type": "markdown",
   "metadata": {},
   "source": [
    "- np.concatenate(리스트로 담은 값들)"
   ]
  },
  {
   "cell_type": "code",
   "execution_count": 39,
   "metadata": {},
   "outputs": [
    {
     "output_type": "execute_result",
     "data": {
      "text/plain": "array([1, 2, 3, 4, 5, 6])"
     },
     "metadata": {},
     "execution_count": 39
    }
   ],
   "source": [
    "arr1 = np.concatenate([list1, list2], axis=0)\n",
    "arr1"
   ]
  },
  {
   "cell_type": "markdown",
   "metadata": {},
   "source": [
    "- axis 파라미터\n",
    "    - 방향 지정"
   ]
  },
  {
   "cell_type": "code",
   "execution_count": 40,
   "metadata": {},
   "outputs": [
    {
     "output_type": "execute_result",
     "data": {
      "text/plain": "array([[1, 2, 3],\n       [4, 5, 6]])"
     },
     "metadata": {},
     "execution_count": 40
    }
   ],
   "source": [
    "arr2 = arr1.reshape(-1, 3)\n",
    "arr2"
   ]
  },
  {
   "cell_type": "code",
   "execution_count": 41,
   "metadata": {},
   "outputs": [
    {
     "output_type": "execute_result",
     "data": {
      "text/plain": "array([[1, 2, 3],\n       [4, 5, 6],\n       [1, 2, 3],\n       [4, 5, 6]])"
     },
     "metadata": {},
     "execution_count": 41
    }
   ],
   "source": [
    "np.concatenate([arr2, arr2], axis=0)"
   ]
  },
  {
   "cell_type": "code",
   "execution_count": 42,
   "metadata": {},
   "outputs": [
    {
     "output_type": "execute_result",
     "data": {
      "text/plain": "array([[1, 2, 3, 1, 2, 3],\n       [4, 5, 6, 4, 5, 6]])"
     },
     "metadata": {},
     "execution_count": 42
    }
   ],
   "source": [
    "np.concatenate([arr2, arr2], axis=1)"
   ]
  },
  {
   "cell_type": "markdown",
   "metadata": {},
   "source": [
    "- 축이 2개인 경우 0과 1 두개의 축이 생김\n",
    "\n",
    "- axis=0\n",
    "    - 세로 연결\n",
    "\n",
    "- axis=1\n",
    "    - 가로 연결"
   ]
  },
  {
   "cell_type": "code",
   "execution_count": 43,
   "metadata": {},
   "outputs": [
    {
     "output_type": "execute_result",
     "data": {
      "text/plain": "array([[1, 2, 3],\n       [4, 5, 6],\n       [1, 2, 3],\n       [4, 5, 6]])"
     },
     "metadata": {},
     "execution_count": 43
    }
   ],
   "source": [
    "np.vstack([arr2, arr2])"
   ]
  },
  {
   "cell_type": "markdown",
   "metadata": {},
   "source": [
    "- np.vstack()\n",
    "    - vertical stack\n",
    "    - => axis=0\n",
    "\n"
   ]
  },
  {
   "cell_type": "code",
   "execution_count": 44,
   "metadata": {},
   "outputs": [
    {
     "output_type": "execute_result",
     "data": {
      "text/plain": "array([[1, 2, 3, 1, 2, 3],\n       [4, 5, 6, 4, 5, 6]])"
     },
     "metadata": {},
     "execution_count": 44
    }
   ],
   "source": [
    "np.hstack([arr2, arr2])"
   ]
  },
  {
   "cell_type": "markdown",
   "metadata": {},
   "source": [
    "- np.hstack()\n",
    "    - horizontal stack\n",
    "    - => axis=1"
   ]
  },
  {
   "cell_type": "markdown",
   "metadata": {},
   "source": [
    "<br/>\n",
    "\n",
    "\n",
    "이어서...\n",
    "\n",
    "2. numpy-2"
   ]
  }
 ]
}