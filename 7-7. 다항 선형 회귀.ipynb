{
 "nbformat": 4,
 "nbformat_minor": 2,
 "metadata": {
  "language_info": {
   "name": "python",
   "codemirror_mode": {
    "name": "ipython",
    "version": 3
   }
  },
  "orig_nbformat": 2,
  "file_extension": ".py",
  "mimetype": "text/x-python",
  "name": "python",
  "npconvert_exporter": "python",
  "pygments_lexer": "ipython3",
  "version": 3
 },
 "cells": [
  {
   "cell_type": "markdown",
   "metadata": {},
   "source": [
    "# 7.7. 다항 선형 회귀"
   ]
  },
  {
   "cell_type": "markdown",
   "metadata": {},
   "source": [
    "### 다항 회귀의 개요"
   ]
  },
  {
   "cell_type": "markdown",
   "metadata": {},
   "source": [
    "- 다항 회귀란 반응 변수와 다항식으로 표현된 특징 사이의 선형 관계를 모델링 할 수 있는 다중 선형 회귀의 특수한 형태\n",
    "\n",
    "- 특징을 변환한 후 다중 선형 회귀에서와 같은 방식으로 설명 변수와 반응 변수의 비션형 관계를 모델링함\n",
    "\n",
    "- 단일 설명 변수의 단일 특징을 사용하고 있지만 모델의 항은 n개\n",
    "\n",
    "- y = a + b_1*X + b_2*x^2 + ... + b_n*x^n"
   ]
  },
  {
   "cell_type": "markdown",
   "metadata": {},
   "source": [
    "<br/>\n",
    "\n",
    "# 7.8. 주요 정리"
   ]
  },
  {
   "cell_type": "markdown",
   "metadata": {},
   "source": [
    "1. 선형회귀 모델을 생성하기에 앞서 상관분석, 산점도 행렬 등을 이용해 데이터에 대한 탐색적 분석을 실행한다.\n",
    "\n",
    "2. 단순 선형 회귀란 설명 변수인 단일 특징과 단일 반응 변수 간에 선형 관계가 있다고 가정하고 초평면이라고 하는 선형 평면을 이용해 모델링한 것이다.\n",
    "\n",
    "3. 다중 선형 회귀는 설명 변수인 다수의 특징과 단일 반응 변수 간에 선형 관계가 있다고 가정하고 초평면이라고 하는 선형 평면을 이용해 모델링한 것이다.\n",
    "\n",
    "4. 다항 회귀는 설명 변수와 반응 변수의 비선형 관계를 모델링한다.\n",
    "\n",
    "5. 회귀모델 선능의 기본 평가지표는 결정계수 R^2 를 이용해 측정한다."
   ]
  },
  {
   "cell_type": "markdown",
   "metadata": {},
   "source": [
    "<br/>\n",
    "\n",
    "### Reference\n",
    "\n",
    "https://www.youtube.com/watch?v=PY7_epcvOh0\n",
    "\n",
    "https://www.youtube.com/watch?v=41-SGY-P_bg"
   ]
  }
 ]
}