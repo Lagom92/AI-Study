{
 "nbformat": 4,
 "nbformat_minor": 2,
 "metadata": {
  "language_info": {
   "name": "python",
   "codemirror_mode": {
    "name": "ipython",
    "version": 3
   },
   "version": "3.7.6-final"
  },
  "orig_nbformat": 2,
  "file_extension": ".py",
  "mimetype": "text/x-python",
  "name": "python",
  "npconvert_exporter": "python",
  "pygments_lexer": "ipython3",
  "version": 3,
  "kernelspec": {
   "name": "python37664bitd6c49ce9a0fb4da9a60aa5dde01a050b",
   "display_name": "Python 3.7.6 64-bit"
  }
 },
 "cells": [
  {
   "cell_type": "markdown",
   "metadata": {},
   "source": [
    "# 머신러닝을 위한 통계학"
   ]
  },
  {
   "cell_type": "markdown",
   "metadata": {},
   "source": [
    "# 통계학이란?\n",
    "\n",
    "- 수치 데이터의 수집, 분석, 해석, 표현 등을 다루는 수학의 한 분야로 크게 기술 통계학과 추론 통계학으로 분류됨\n",
    "\n",
    "- 기술 통계학\n",
    "    - 연속형 데이터: 평균, 표준편차와 같은 자료 요약\n",
    "    - 범주형 데이터: 빈도, 백분율과 같은 자료 요약\n",
    "\n",
    "- 추론 통계학\n",
    "\n",
    "    - 표본이라 불리는 일부 자료를 수집해 전체 모집합에 대한 결론을 유추\n",
    "    - 추론은 가설 검정, 수치의 특징 계산, 데이터간의 상관관계 등을 통해 이루어짐\n",
    "\n",
    "- 통계 모델링\n",
    "\n",
    "    - 데이터에 통계학을 적용해 변수의 유의성을 분석함으로써 데이터의 숨겨진 특징을 찾아내는 것을 통계 모델링이라고 한다."
   ]
  },
  {
   "cell_type": "markdown",
   "metadata": {},
   "source": [
    "# 통계학의 핵심 개념"
   ]
  },
  {
   "cell_type": "markdown",
   "metadata": {},
   "source": [
    "# 머신러닝 이해에 필요한 통계학 핵심 개념\n",
    "\n",
    "- 통계 모델은 수학적 모델 ==> 변수들로 이루어진 수학을 계산해 실제 값을 추정하는 방법\n",
    "\n",
    "- 통계 모델을 이루는 여러 가정은 확률 분포를 따름\n",
    "\n",
    "- 통계 모델은 모든 변수가 만족해야 하는 기본 가정으로 시작하며, 이 조건이 만족할 때만 모델의 성능이 통계학적으로 의미를 가짐"
   ]
  },
  {
   "cell_type": "markdown",
   "metadata": {},
   "source": [
    "### 모집단과 표본\n",
    "\n",
    "- 모집단: 모든 관측값 또는 분석 대상의 전체 데이터를 의미\n",
    "\n",
    "- 표본: 모집단의 부분 집합으로, 분석 대상 중인 전체 데이터의 일부분"
   ]
  },
  {
   "cell_type": "markdown",
   "metadata": {},
   "source": [
    "- 모집단 대상이냐 표본 대상이냐에 따라 통계 모델링 기법이 달라짐"
   ]
  },
  {
   "cell_type": "markdown",
   "metadata": {},
   "source": [
    "### 모수와 통계량\n",
    "\n",
    "- 모수: 모집단의 특징을 나타내는 수치값\n",
    "\n",
    "- 통계량: 표본의 특징을 나타내는 수치값\n",
    "\n",
    "  - 모수 추정을 위해 사용\n",
    "  - 평균, 중앙값, 최빈값, 분산 등과 같은 데이터를 대표하는 값\n",
    "\n",
    "\n",
    "- 통계량이 실제 모집단을 대표하는 값이 될 때 통계적 유의성을 확보할 수 있음"
   ]
  },
  {
   "cell_type": "markdown",
   "metadata": {},
   "source": [
    "### 평균, 중간값, 최빈값\n",
    "\n",
    "- 정규분포는 좌우가 균등하므로, 최빈값, 중앙값, 평균이 모두 중앙에 위치함\n",
    "\n",
    "- 데이터가 좌나 우로 치우쳐진 경우 최빈값, 중앙값, 평균이 모두 다름\n",
    "\n",
    "- 최빈값, 중앙값, 평균에 따라 데이터의 분포를 유추할 수 있음"
   ]
  },
  {
   "cell_type": "code",
   "execution_count": 11,
   "metadata": {},
   "outputs": [
    {
     "output_type": "stream",
     "name": "stdout",
     "text": "평균값: 49.17\n중앙값: 49.0\n최빈값: 3 (cnt=125)\n"
    }
   ],
   "source": [
    "import numpy as np\n",
    "from scipy import stats\n",
    "\n",
    "np.random.seed(0)\n",
    "\n",
    "data = np.random.randint(0, 100, 10000)\n",
    "\n",
    "mean = np.mean(data)\n",
    "median = np.median(data)\n",
    "mode = stats.mode(data)\n",
    "\n",
    "print(f\"평균값: {mean.round(2)}\")\n",
    "print(f\"중앙값: {median}\")\n",
    "print(f\"최빈값: {mode[0][0]} (cnt={mode[1][0]})\")"
   ]
  },
  {
   "cell_type": "markdown",
   "metadata": {},
   "source": [
    "- numpy는 최빈값과 관련된 함수를 제공하지 않으므로 scipy 패키지의 status 모듈에 있는 mode함수를 사용함\n",
    "\n",
    "- ModeResult는 몇 가지 방법으로 조작이 필요함"
   ]
  },
  {
   "cell_type": "code",
   "execution_count": 17,
   "metadata": {},
   "outputs": [
    {
     "output_type": "stream",
     "name": "stdout",
     "text": "<class 'scipy.stats.stats.ModeResult'>\n<class 'numpy.ndarray'>\n<class 'numpy.ndarray'>\nModeResult(mode=array([3]), count=array([125]))\n"
    }
   ],
   "source": [
    "print(type(mode))\n",
    "print(type(mode.mode))\n",
    "print(type(mode.count))\n",
    "\n",
    "print(mode)"
   ]
  },
  {
   "cell_type": "markdown",
   "metadata": {},
   "source": [
    "### 분산, 표준편차, 범위, 사분위수\n",
    "\n",
    "- 변량의 측정: 산포는 데이터의 변량을 의미하며, 데이터가 얼마나 중심으로 모이지 않고 흩어져 있는지를 설명\n",
    "\n",
    "- 분산: 평균과의 거리를 제곱한 값의 평균\n",
    "\n",
    "- 표준편차: 분산의 제곱근\n",
    "\n",
    "- 범위: 최대값과 최소값의 차이\n",
    "\n",
    "- 사분위수: 데이터를 4등분한 값\n",
    "    - 25% 값: 1사분위수(Q1)\n",
    "    - 50% 값: 2사분위수(Q2)\n",
    "    - 75% 값: 3사분위수(Q3)\n",
    "\n",
    "- IQR: Interquartile Range, Q1과 Q2의 차이 "
   ]
  },
  {
   "cell_type": "markdown",
   "metadata": {},
   "source": [
    "- 통계학에서 가장 중요한 개념 => 변량"
   ]
  },
  {
   "cell_type": "markdown",
   "metadata": {},
   "source": [
    "### 정규분포, 박스 플롯\n",
    "\n",
    "![IQR](./img/IQR.png)\n",
    "\n",
    "- 출처: https://en.wikipedia.org/wiki/Interquartile_range#/media/File:Boxplot_vs_PDF.svg"
   ]
  },
  {
   "cell_type": "code",
   "execution_count": 19,
   "metadata": {},
   "outputs": [],
   "source": [
    "import numpy as np\n",
    "from statistics import variance, stdev"
   ]
  },
  {
   "cell_type": "markdown",
   "metadata": {},
   "source": [
    "- variance: 분산\n",
    "- stdev: 표준편차(standard deviation)"
   ]
  },
  {
   "cell_type": "code",
   "execution_count": 32,
   "metadata": {},
   "outputs": [
    {
     "output_type": "stream",
     "name": "stdout",
     "text": "분산: 662\n표준편차: 25.73\n범위: 79\n사분위수:\n0% 값 == > 9.0\n25% 값 == > 42.75\n50% 값 == > 64.5\n75% 값 == > 84.0\n100% 값 == > 88.0\nIQR: 41.25\n"
    }
   ],
   "source": [
    "np.random.seed(0)\n",
    "\n",
    "points = np.random.randint(0, 100, 20)\n",
    "var = variance(points)\n",
    "std = stdev(points)\n",
    "r = np.max(points) - np.min(points)\n",
    "\n",
    "print(f\"분산: {var}\")\n",
    "print(f\"표준편차: {np.round(std, 2)}\")\n",
    "print(f\"범위: {r}\")\n",
    "print(\"사분위수:\")\n",
    "for val in range(0, 101, 25):\n",
    "    quantile = np.percentile(points, val)\n",
    "    print(f\"{val}% 값 == > {quantile}\")\n",
    "\n",
    "IQR = np.percentile(points, 75) - np.percentile(points, 25)\n",
    "print(f\"IQR: {IQR}\")\n",
    ""
   ]
  },
  {
   "cell_type": "markdown",
   "metadata": {},
   "source": [
    "### 가설 검정과 p-value"
   ]
  },
  {
   "cell_type": "markdown",
   "metadata": {},
   "source": [
    "- 가설 검정:\n",
    "\n",
    "    - 표본에 대한 통계적 테스트를 수행해 전체 모집단에 대한 추론을 만드는 과정으로, 귀무가설(H0)과 대립가설(H1)을 통해 가정이 통계적으로 의미가 있는지 검정함\n",
    "\n",
    "    - 모델링에서 각 독립 변수에 대해 0.05 보다 작은 p-value는 유의미하다고 간주함\n",
    "\n",
    "\n",
    "- 대립가설(연구가설)은 연구를 할 때 세우는 가설을 의미함"
   ]
  },
  {
   "cell_type": "markdown",
   "metadata": {},
   "source": [
    "- 가설 검정의 단계:\n",
    "    귀무가설 정의 => 표본 추출 => 검정 통계량에 따른 귀무가설의 통계적 유의성 확인 => 검정통계량에 따라 귀무가설 채택 또는 기각\n",
    "\n",
    "- 통계적 유의성 확인을 위해 p-value 사용\n",
    "\n",
    "- p-value가 0.05 미만이면 기각, 0.05 이상이면 채택"
   ]
  },
  {
   "cell_type": "markdown",
   "metadata": {},
   "source": [
    "- p-value: 귀무가설이 옳다는 전제 하에 표본에서 실제로 관측된 통계값과 같거나 더 극단적인 통계값이 관측될 확률\n",
    "\n"
   ]
  },
  {
   "cell_type": "code",
   "execution_count": 4,
   "metadata": {},
   "outputs": [
    {
     "output_type": "stream",
     "name": "stdout",
     "text": "검정 통계량: -3.38\nt-table로 부터의 임계값: -1.729\nt-table의 아래쪽 꼬리 p 값: 0.0016\n"
    }
   ],
   "source": [
    "# 예시 문제\n",
    "import numpy as np\n",
    "from scipy import stats\n",
    "\n",
    "# 표본의 평균(x_bar), 전체 평균(mu), 표본의 표준편차(sigma), 표본의 크기(n)\n",
    "x_bar, mu, sigma, n = 196, 200, 5.3, 20\n",
    "\n",
    "# t 통계량\n",
    "t_sample = (x_bar - mu) / (sigma / np.sqrt(float(n)))\n",
    "print(f\"검정 통계량: {np.round(t_sample, 2)}\")\n",
    "\n",
    "alpha = 0.05\n",
    "t_alpha = stats.t.ppf(alpha, n-1)\n",
    "print(f\"t-table로 부터의 임계값: {np.round(t_alpha, 3)}\")\n",
    "\n",
    "p_val = stats.t.sf(np.abs(t_sample), n-1)\n",
    "print(f\"t-table의 아래쪽 꼬리 p 값: {np.round(p_val, 4)}\")"
   ]
  },
  {
   "cell_type": "markdown",
   "metadata": {},
   "source": [
    "- 단일 표본 t 검정\n",
    "\n",
    "- t 통계량\n",
    "\n",
    "- t 분포\n",
    "\n",
    "- stats.t: t 통계와 관련된 함수\n",
    "\n",
    "- ppf(percent point function)\n",
    "\n",
    "- sf(survival function): 생존함수"
   ]
  },
  {
   "cell_type": "markdown",
   "metadata": {},
   "source": [
    "- p-val이 0.05보다 작으므로 가설을 기각할 수 있다."
   ]
  },
  {
   "cell_type": "markdown",
   "metadata": {},
   "source": [
    "### 정규분포\n",
    "\n",
    "- 정규분포\n",
    "    - 중심극한정리에 따르면 평균이 mu이고 분산이 sigma^2인 모집단으로부터 가능한 모든 n개의 조합을 표본으로 추출하면 표본의 평균은 정규분포에 접근함\n",
    "\n",
    "- 예시) 시험 점수가 정규분포를 따른다고 가정할 경우, 평균 점수가 56점이고 표준편차가 13.6인 경우, 75점 이상을 받은 학생들은 몇 %일까?\n",
    "\n",
    "    - 정규분포를 따르므로 표준정규분포로 바꿔서 계산"
   ]
  },
  {
   "cell_type": "code",
   "execution_count": 4,
   "metadata": {},
   "outputs": [
    {
     "output_type": "stream",
     "name": "stdout",
     "text": "x-score: 1.4\n학생이 75점 이상 받을 확률: 8.12%\n"
    }
   ],
   "source": [
    "# 위 예시 코드\n",
    "import numpy as np\n",
    "from scipy import stats\n",
    "\n",
    "x_bar, mu, s = 75, 56, 13.6\n",
    "\n",
    "z = (x_bar - mu) / s\n",
    "print(f\"x-score: {np.round(z, 2)}\")\n",
    "\n",
    "p_val = 1 - stats.norm.cdf(z)\n",
    "print(f\"학생이 {x_bar}점 이상 받을 확률: {np.round(p_val*100, 2)}%\")"
   ]
  },
  {
   "cell_type": "markdown",
   "metadata": {},
   "source": [
    "- cdf: 누적 확률 분포함수\n",
    "    - 표준화되어 있으므로 z-score 사용\n",
    "\n",
    "\n"
   ]
  },
  {
   "cell_type": "markdown",
   "metadata": {},
   "source": [
    "### 카이제곱 독립성 검정\n",
    "\n",
    "- 카이제곱 독립성 검정\n",
    "    - 범주형 데이터의 통계 분석에 가장 보편적으로 사용되는 검정으로, 2개의 범주형 변수사이에 통계적 상관성이 존재하는지를 판단함\n",
    "\n",
    "- 카이제곱 검정은 독립성 검정을 하는 검정 기법\n",
    "\n",
    "- 예시) 흡연이 운동에 영향을 미칠까?\n"
   ]
  },
  {
   "cell_type": "code",
   "execution_count": 6,
   "metadata": {},
   "outputs": [],
   "source": [
    "# 위 예시 코드\n",
    "import numpy as np\n",
    "import pandas as pd\n",
    "from scipy import stats\n",
    "\n",
    "np.random.seed(0)\n",
    "\n",
    "smoke = [\"안함\", \"가끔\", \"매일\", \"심함\"]\n",
    "exercise = [\"안함\", \"가끔\", \"매일\"]\n",
    "\n",
    "data = {\n",
    "    \"smoke\": np.random.choice(smoke, size=500),\n",
    "    \"exercise\": np.random.choice(exercise, size=500)\n",
    "}\n",
    "df = pd.DataFrame(data, columns=[\"smoke\", \"exercise\"])"
   ]
  },
  {
   "cell_type": "code",
   "execution_count": 7,
   "metadata": {},
   "outputs": [
    {
     "output_type": "execute_result",
     "data": {
      "text/plain": "  smoke exercise\n0    안함       안함\n1    심함       안함\n2    가끔       매일\n3    안함       가끔\n4    심함       가끔",
      "text/html": "<div>\n<style scoped>\n    .dataframe tbody tr th:only-of-type {\n        vertical-align: middle;\n    }\n\n    .dataframe tbody tr th {\n        vertical-align: top;\n    }\n\n    .dataframe thead th {\n        text-align: right;\n    }\n</style>\n<table border=\"1\" class=\"dataframe\">\n  <thead>\n    <tr style=\"text-align: right;\">\n      <th></th>\n      <th>smoke</th>\n      <th>exercise</th>\n    </tr>\n  </thead>\n  <tbody>\n    <tr>\n      <th>0</th>\n      <td>안함</td>\n      <td>안함</td>\n    </tr>\n    <tr>\n      <th>1</th>\n      <td>심함</td>\n      <td>안함</td>\n    </tr>\n    <tr>\n      <th>2</th>\n      <td>가끔</td>\n      <td>매일</td>\n    </tr>\n    <tr>\n      <th>3</th>\n      <td>안함</td>\n      <td>가끔</td>\n    </tr>\n    <tr>\n      <th>4</th>\n      <td>심함</td>\n      <td>가끔</td>\n    </tr>\n  </tbody>\n</table>\n</div>"
     },
     "metadata": {},
     "execution_count": 7
    }
   ],
   "source": [
    "df.head()"
   ]
  },
  {
   "cell_type": "markdown",
   "metadata": {},
   "source": [
    "- 독립성 검정을 위해 임의의 데이터 생성"
   ]
  },
  {
   "cell_type": "code",
   "execution_count": 8,
   "metadata": {},
   "outputs": [
    {
     "output_type": "execute_result",
     "data": {
      "text/plain": "exercise  가끔  매일  안함\nsmoke               \n가끔        38  39  45\n매일        34  44  33\n심함        45  44  51\n안함        47  41  39",
      "text/html": "<div>\n<style scoped>\n    .dataframe tbody tr th:only-of-type {\n        vertical-align: middle;\n    }\n\n    .dataframe tbody tr th {\n        vertical-align: top;\n    }\n\n    .dataframe thead th {\n        text-align: right;\n    }\n</style>\n<table border=\"1\" class=\"dataframe\">\n  <thead>\n    <tr style=\"text-align: right;\">\n      <th>exercise</th>\n      <th>가끔</th>\n      <th>매일</th>\n      <th>안함</th>\n    </tr>\n    <tr>\n      <th>smoke</th>\n      <th></th>\n      <th></th>\n      <th></th>\n    </tr>\n  </thead>\n  <tbody>\n    <tr>\n      <th>가끔</th>\n      <td>38</td>\n      <td>39</td>\n      <td>45</td>\n    </tr>\n    <tr>\n      <th>매일</th>\n      <td>34</td>\n      <td>44</td>\n      <td>33</td>\n    </tr>\n    <tr>\n      <th>심함</th>\n      <td>45</td>\n      <td>44</td>\n      <td>51</td>\n    </tr>\n    <tr>\n      <th>안함</th>\n      <td>47</td>\n      <td>41</td>\n      <td>39</td>\n    </tr>\n  </tbody>\n</table>\n</div>"
     },
     "metadata": {},
     "execution_count": 8
    }
   ],
   "source": [
    "xtab = pd.crosstab(df.smoke, df.exercise)\n",
    "xtab"
   ]
  },
  {
   "cell_type": "markdown",
   "metadata": {},
   "source": [
    "- pandas 함수를 이용해 독립성 검정 분할표 만들기\n",
    "    - pd.crosstab()"
   ]
  },
  {
   "cell_type": "code",
   "execution_count": 11,
   "metadata": {},
   "outputs": [
    {
     "output_type": "stream",
     "name": "stdout",
     "text": "p-값: 0.668\n"
    }
   ],
   "source": [
    "contg = stats.chi2_contingency(observed=xtab)\n",
    "p_val = contg[1]\n",
    "p_val = np.round(p_val, 3)\n",
    "print(f\"p-값: {p_val}\")"
   ]
  },
  {
   "cell_type": "markdown",
   "metadata": {},
   "source": [
    "### ANOVA 분산 분석\n",
    "\n",
    "- ANOVA 분산 분석\n",
    "\n",
    "    - Analysis of Variance\n",
    "\n",
    "    - 모집단이 셋 이상인 경우, 이들의 평균이 서로 동일한지 테스트함\n",
    "\n",
    "    - 귀무가설: 모든 모집단의 평균에 차이가 없다.\n",
    "\n",
    "    - 대립가설: 적어도 하나의 모집단의 평균에 차이가 있다.\n",
    "\n",
    "- t 검정은 두 집단의 평균 차이, ANOVA는 셋 이상의 평균 차이를 검정 함\n",
    "\n",
    "- 예시) 10명의 환자를 대상으로 A, B, C 세 가지 수면제 약효(수면시간)를 각각 테스트할 경우, 유의수준 0.05에서 A, B, C수면제의 평균 수면시간은 동일한가?"
   ]
  },
  {
   "cell_type": "code",
   "execution_count": 13,
   "metadata": {},
   "outputs": [],
   "source": [
    "# 위 예시 코드\n",
    "# 랜덤 샘플링으로 ANOVA 분산 분석하기\n",
    "import numpy as np\n",
    "import pandas as pd\n",
    "from scipy import stats\n",
    "\n",
    "np.random.seed(0)\n",
    "\n",
    "data = (np.random.rand(30).round(2) * 10).reshape(-1, 3)\n",
    "df = pd.DataFrame(data=data, columns=[\"A\", \"B\", \"C\"])"
   ]
  },
  {
   "cell_type": "code",
   "execution_count": 14,
   "metadata": {},
   "outputs": [
    {
     "output_type": "execute_result",
     "data": {
      "text/plain": "     A    B    C\n0  5.5  7.2  6.0\n1  5.4  4.2  6.5\n2  4.4  8.9  9.6\n3  3.8  7.9  5.3\n4  5.7  9.3  0.7\n5  0.9  0.2  8.3\n6  7.8  8.7  9.8\n7  8.0  4.6  7.8\n8  1.2  6.4  1.4\n9  9.4  5.2  4.1",
      "text/html": "<div>\n<style scoped>\n    .dataframe tbody tr th:only-of-type {\n        vertical-align: middle;\n    }\n\n    .dataframe tbody tr th {\n        vertical-align: top;\n    }\n\n    .dataframe thead th {\n        text-align: right;\n    }\n</style>\n<table border=\"1\" class=\"dataframe\">\n  <thead>\n    <tr style=\"text-align: right;\">\n      <th></th>\n      <th>A</th>\n      <th>B</th>\n      <th>C</th>\n    </tr>\n  </thead>\n  <tbody>\n    <tr>\n      <th>0</th>\n      <td>5.5</td>\n      <td>7.2</td>\n      <td>6.0</td>\n    </tr>\n    <tr>\n      <th>1</th>\n      <td>5.4</td>\n      <td>4.2</td>\n      <td>6.5</td>\n    </tr>\n    <tr>\n      <th>2</th>\n      <td>4.4</td>\n      <td>8.9</td>\n      <td>9.6</td>\n    </tr>\n    <tr>\n      <th>3</th>\n      <td>3.8</td>\n      <td>7.9</td>\n      <td>5.3</td>\n    </tr>\n    <tr>\n      <th>4</th>\n      <td>5.7</td>\n      <td>9.3</td>\n      <td>0.7</td>\n    </tr>\n    <tr>\n      <th>5</th>\n      <td>0.9</td>\n      <td>0.2</td>\n      <td>8.3</td>\n    </tr>\n    <tr>\n      <th>6</th>\n      <td>7.8</td>\n      <td>8.7</td>\n      <td>9.8</td>\n    </tr>\n    <tr>\n      <th>7</th>\n      <td>8.0</td>\n      <td>4.6</td>\n      <td>7.8</td>\n    </tr>\n    <tr>\n      <th>8</th>\n      <td>1.2</td>\n      <td>6.4</td>\n      <td>1.4</td>\n    </tr>\n    <tr>\n      <th>9</th>\n      <td>9.4</td>\n      <td>5.2</td>\n      <td>4.1</td>\n    </tr>\n  </tbody>\n</table>\n</div>"
     },
     "metadata": {},
     "execution_count": 14
    }
   ],
   "source": [
    "df"
   ]
  },
  {
   "cell_type": "markdown",
   "metadata": {},
   "source": [
    "- rand(): 0 ~ 1사이의 임의의 수"
   ]
  },
  {
   "cell_type": "markdown",
   "metadata": {},
   "source": [
    "- stats.f_oneway()\n",
    "    - 분산분석은 f분포를 따르는 f통계량 사용, ANOVA(=F검정)"
   ]
  },
  {
   "cell_type": "code",
   "execution_count": 15,
   "metadata": {},
   "outputs": [
    {
     "output_type": "stream",
     "name": "stdout",
     "text": "통계량: 0.34, p-value: 0.713\n"
    }
   ],
   "source": [
    "one_way_anova = stats.f_oneway(df.A, df.B, df.C)\n",
    "print(f\"통계량: {np.round(one_way_anova[0], 2)}, p-value: {np.round(one_way_anova[1], 3)}\")"
   ]
  },
  {
   "cell_type": "markdown",
   "metadata": {},
   "source": [
    "- p 값이 0.05 보다 크므로 귀무가설을 채택함"
   ]
  },
  {
   "cell_type": "markdown",
   "metadata": {},
   "source": [
    "## 주요 정리\n",
    "\n",
    "1. 귀무가설과 대립가설을 통해 가정이 통계적으로 의미가 있는지 검정하는 절차를 가설 검정이라고 한다.\n",
    "\n",
    "2. 가설검정은 귀무가설을 정의하고, 표본을 추출하고, 검정 통계량에 따른 통계적 유의성을 확인 후 귀무가설을 채택하거나 기각하는 순으로 절차를 진행한다.\n",
    "\n",
    "3. p-value는 귀무가설이 옳다는 전제 하에 표본에서 실제로 관측된 통계값과 같거나 더 극단적인 통계값이 관측될 확률이다.\n",
    "\n",
    "4. 평균이 mu이고 분산이 sigma^2인 모집단으로부터 가능한 모든 n개의 조합을 표본으로 추출하면 표본의 평균은 정규분포에 접근한다.\n",
    "\n",
    "5. 카이제곱 검정은 범주형 데이터의 통계 분석에 사용되는 검정으로, 2개의 범주형 변수 사이에 독립성을 판단한다.\n",
    "\n",
    "6. ANOVA 분산분석은 모집단이 셋 이상인 경우, 이들의 평균이 서로 동일한지 테스트한다."
   ]
  },
  {
   "cell_type": "markdown",
   "metadata": {},
   "source": [
    "<br/>\n",
    "\n",
    "### Reference\n",
    "\n",
    "https://kbig.kr/portal/kbig/knowledge/onl_edu_class/python"
   ]
  }
 ]
}