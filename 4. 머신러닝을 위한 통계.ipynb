{
 "nbformat": 4,
 "nbformat_minor": 2,
 "metadata": {
  "language_info": {
   "name": "python",
   "codemirror_mode": {
    "name": "ipython",
    "version": 3
   }
  },
  "orig_nbformat": 2,
  "file_extension": ".py",
  "mimetype": "text/x-python",
  "name": "python",
  "npconvert_exporter": "python",
  "pygments_lexer": "ipython3",
  "version": 3
 },
 "cells": [
  {
   "cell_type": "markdown",
   "metadata": {},
   "source": [
    "# 머신러닝을 위한 통계학"
   ]
  },
  {
   "cell_type": "markdown",
   "metadata": {},
   "source": [
    "# 통계학이란?\n",
    "\n",
    "- 수치 데이터의 수집, 분석, 해석, 표현 등을 다루는 수학의 한 분야로 크게 기술 통계학과 추론 통계학으로 분류됨\n",
    "\n",
    "- 기술 통계학\n",
    "    - 연속형 데이터: 평균, 표준편차와 같은 자료 요약\n",
    "    - 범주형 데이터: 빈도, 백분율과 같은 자료 요약\n",
    "\n",
    "- 추론 통계학\n",
    "\n",
    "    - 표본이라 불리는 일부 자료를 수집해 전체 모집합에 대한 결론을 유추\n",
    "    - 추론은 가설 검정, 수치의 특징 계산, 데이터간의 상관관계 등을 통해 이루어짐\n",
    "\n",
    "- 통계 모델링\n",
    "\n",
    "    - 데이터에 통계학을 적용해 변수의 유의성을 분석함으로써 데이터의 숨겨진 특징을 찾아내는 것을 통계 모델링이라고 한다."
   ]
  },
  {
   "cell_type": "code",
   "execution_count": null,
   "metadata": {},
   "outputs": [],
   "source": []
  }
 ]
}